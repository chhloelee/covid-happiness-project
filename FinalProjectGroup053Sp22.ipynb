{
 "cells": [
  {
   "cell_type": "markdown",
   "metadata": {},
   "source": [
    "# COGS 108 - Analysis on Global Happiness Scores and COVID-19 Variables"
   ]
  },
  {
   "cell_type": "markdown",
   "metadata": {},
   "source": [
    "## Permissions\n",
    "\n",
    "Place an `X` in the appropriate bracket below to specify if you would like your group's project to be made available to the public. (Note that student names will be included (but PIDs will be scraped from any groups who include their PIDs).\n",
    "\n",
    "* [ X ] YES - make available\n",
    "* [  ] NO - keep private"
   ]
  },
  {
   "cell_type": "markdown",
   "metadata": {},
   "source": [
    "# Overview"
   ]
  },
  {
   "cell_type": "markdown",
   "metadata": {},
   "source": [
    "The onslaught of the COVID-19 pandemic in 2020 has been a mental hazard for people worldwide. With our analysis, we focus on measuring the relationship between happiness scores and COVID-related variables such as lockdown levels, vaccination progress, and COVID-related tweets. Our resulting analysis has shown that vaccination progress, lockdown levels, and freedom scores have a significant relationship with happiness levels. Conversely, COVID-related tweets have shown shocking results and do not have significant association with happiness scores."
   ]
  },
  {
   "cell_type": "markdown",
   "metadata": {},
   "source": [
    "# Names\n",
    "\n",
    "- Jonathan Lum\n",
    "- Chloe Lee\n",
    "- Vivian Cheung\n",
    "- Jenna Nguyen"
   ]
  },
  {
   "cell_type": "markdown",
   "metadata": {},
   "source": [
    "<a id='research_question'></a>\n",
    "# Research Question"
   ]
  },
  {
   "cell_type": "markdown",
   "metadata": {},
   "source": [
    "Is there a relationship between world happiness (by country) and COVID-19 related factors, such as vaccination progress, the polarity of COVID-related tweets, and the length of COVID lockdowns?"
   ]
  },
  {
   "cell_type": "markdown",
   "metadata": {},
   "source": [
    "<a id='background'></a>\n",
    "\n",
    "## Background & Prior Work"
   ]
  },
  {
   "cell_type": "markdown",
   "metadata": {},
   "source": [
    "It is evident that the COVID-19 pandemic has taken a toll on people’s lives worldwide. However, now that cases are at an all-time low and things are seemingly returning to normal, we wonder if people are, on average, happier or not. According to a study conducted by IZA World of Labor, COVID’s impact on the general population is dependent on their lives pre-pandemic. For instance, someone who might have gotten laid off from their job due to COVID would experience a decrease in mental health as opposed to someone who escapes from a bad marriage, who would experience an increase [^cheong]. This piqued our interest since there are surely different accounts of whether people enjoyed social isolation or not. Furthermore, we want to discover the source of why people worldwide share these sentiments. A PLOS ONE research article shows how researchers use regression analysis to determine the factors that contributed to New Zealand’s fluctuations in nationwide happiness, such as employment and mobility [^rossouw]. \n",
    "\n",
    "We decided to look more into the relationship between world happiness and COVID-related factors, such as the lockdown type, the number of tweets, and vaccination progress by country. This gives us a well-rounded research question that targets different aspects of people’s lives that may drive the happiness ratings.\n",
    "\n",
    "[^cheong]: Cheong, Terence C., et al. “The Impact of a COVID-19 Lockdown on Happiness.” IZA World of Labor - Home, 9 Nov. 2020, https://wol.iza.org/opinions/the-impact-of-a-covid-19-lockdown-on-happiness. \n",
    "[^rossouw]: Rossouw, Stephanie, et al. “The Evolution of Happiness Pre and Peri-Covid-19: A Markov Switching Dynamic Regression Model.” PLOS ONE, Public Library of Science, https://journals.plos.org/plosone/article?id=10.1371%2Fjournal.pone.0259579.\n"
   ]
  },
  {
   "cell_type": "markdown",
   "metadata": {},
   "source": [
    "# Hypothesis\n"
   ]
  },
  {
   "cell_type": "markdown",
   "metadata": {},
   "source": [
    "We hypothesize that countries with greater vaccination progress will have higher happiness ratings due to a greater solace in a diminished COVID-19 transmission rate. In addition, we predict that countries with more positive COVID-related tweets will have higher happiness scores. Our tweet prediction is pretty commonsensical and is based on the expectation that happier countries will be led by governments that would be able to handle COVID better. Similarly, our lockdown prediction is tied very closely to expectations for how a government is perceived by their civilians. Hence, we expect those with stricter lockdowns to have lower freedom and happiness scores, while those with looser lockdowns to have higher freedom and happiness scores."
   ]
  },
  {
   "cell_type": "markdown",
   "metadata": {},
   "source": [
    "# Dataset(s)"
   ]
  },
  {
   "cell_type": "markdown",
   "metadata": {},
   "source": [
    "**Dataset Name:** World Happiness Report  \n",
    "**Link to the dataset:** https://www.kaggle.com/code/kristantotanusdjaja/world-happiness-report/notebook  \n",
    "**Number of observations:** 1228 rows x 12 columns  \n",
    "**Description of the dataset:** This dataset contains information about countries' reported happiness based on factors such as `Freedom`, `GDP`, and `Trust` in the Government over the years 2015-2022. We will use this to see how big of an impact COVID-19 had on happiness.\n",
    "\n",
    "**Dataset Name:** COVID19 Tweets  \n",
    "**Link to the dataset:** https://www.kaggle.com/datasets/gpreda/covid19-tweets  \n",
    "**Number of observations:** 179108 rows x 13 columns  \n",
    "**Description of the dataset:** This dataset compiles tweets that have the #covid19 hashtag starting from 7/25/2020 and onwards. Important variables include the `user location`, `date`, and `text` of the tweet.\n",
    "\n",
    "**Dataset Name:** World Cities Datasets  \n",
    "**Link to the dataset:** https://www.kaggle.com/datasets/viswanathanc/world-cities-datasets  \n",
    "**Number of observations:** 13504 rows x 11 columns  \n",
    "**Description of the dataset:** This dataset contains details of around 13k cities around the world, including the population, primary capital, longitude and latitude, etc. It will be used in this notebook to clean the `COVID19 Tweets` dataset and link the user locations to their respective cities. \n",
    "\n",
    "\n",
    "**Dataset Name:** COVID-19 Lockdown dates by country  \n",
    "**Link to the dataset:** https://www.kaggle.com/datasets/jcyzag/covid19-lockdown-dates-by-country  \n",
    "**Number of observations:** 200 rows x 4 columns  \n",
    "**Description of the dataset:** This dataset compiles information about countries that enforced a lockdown on citizens at the beginning of the COVID-19 pandemic. It displays the date the lockdowns started and whether it was a full or partial lockdown, if any.\n",
    "\n",
    "**Dataset Name:** COVID19 Country Vaccination Progress  \n",
    "**Link to the dataset:** https://www.kaggle.com/code/dabawse/visualising-covid-19-vaccinations  \n",
    "**Number of observations:** 9576 rows x 15 columns  \n",
    "**Description of the dataset:** This dataset shows the vaccination progress of countries around the world between December 2020 to April 2021. Important variables within this dataset include `total vaccinations` for each country and the `total percent` of individuals vaccinated in a country.\n",
    "\n",
    "We plan to combine these datasets by cross-referencing countries and attributing different factors to the impact of COVID-19 on world happiness."
   ]
  },
  {
   "cell_type": "markdown",
   "metadata": {},
   "source": [
    "# Setup"
   ]
  },
  {
   "cell_type": "code",
   "execution_count": 1,
   "metadata": {},
   "outputs": [
    {
     "name": "stderr",
     "output_type": "stream",
     "text": [
      "[nltk_data] Downloading package stopwords to\n",
      "[nltk_data]     /Users/viviancheung/nltk_data...\n",
      "[nltk_data]   Package stopwords is already up-to-date!\n",
      "[nltk_data] Downloading package vader_lexicon to\n",
      "[nltk_data]     /Users/viviancheung/nltk_data...\n",
      "[nltk_data]   Package vader_lexicon is already up-to-date!\n"
     ]
    }
   ],
   "source": [
    "# import necessary libraries\n",
    "import pandas as pd\n",
    "import numpy as np\n",
    "\n",
    "# for visualizing data\n",
    "import seaborn as sns\n",
    "import matplotlib.pyplot as plt\n",
    "\n",
    "import warnings\n",
    "\n",
    "# for data analysis of our visualizations\n",
    "import patsy\n",
    "import statsmodels.api as sm\n",
    "\n",
    "# for sentiment analysis\n",
    "import nltk\n",
    "from nltk.sentiment.vader import SentimentIntensityAnalyzer\n",
    "from nltk.corpus import stopwords\n",
    "nltk.download('stopwords')\n",
    "nltk.download('vader_lexicon')\n",
    "\n",
    "import re\n",
    "import string"
   ]
  },
  {
   "cell_type": "markdown",
   "metadata": {},
   "source": [
    "### Import Datasets"
   ]
  },
  {
   "cell_type": "code",
   "execution_count": 2,
   "metadata": {},
   "outputs": [],
   "source": [
    "#importing files\n",
    "happiness = pd.read_csv('data/world_happiness_report.csv')\n",
    "tweets = pd.read_csv('data/covid19_tweets.csv')\n",
    "cities = pd.read_csv('data/worldcities.csv')\n",
    "lockdown = pd.read_csv('data/countryLockdowndatesJHUMatch.csv')\n",
    "vaccinations = pd.read_csv('data/country_vaccinations.csv')"
   ]
  },
  {
   "cell_type": "markdown",
   "metadata": {},
   "source": [
    "# Data Cleaning"
   ]
  },
  {
   "cell_type": "markdown",
   "metadata": {},
   "source": [
    "### First, we clean the world happiness dataset."
   ]
  },
  {
   "cell_type": "markdown",
   "metadata": {},
   "source": [
    "We dropped unnecessary columns and kept: `Country`, `Region`, `Happiness Rank`, `Happiness Score`, `Economy`, `Freedom`, `Trust`, and `Year`. First, the country and region are useful to cross reference the location of interest with our other datasets such as `COVID tweets`, `vaccinations`, and `lockdown dates`. From there we are able to identify the measures of happiness; we kept the economy, freedom, and trust as factors to keep in mind for if those have a relevant trend or affect on happiness rather than the impact of COVID itself."
   ]
  },
  {
   "cell_type": "code",
   "execution_count": 3,
   "metadata": {},
   "outputs": [],
   "source": [
    "#viewing columns\n",
    "happiness.columns\n",
    "\n",
    "#narrowing down the columns we want to focus on\n",
    "happiness = happiness[['Country', 'Region', 'Happiness Rank', 'Happiness Score', 'Economy (GDP per Capita)',\n",
    "         'Freedom', 'Trust (Government Corruption)', 'Year']]"
   ]
  },
  {
   "cell_type": "markdown",
   "metadata": {},
   "source": [
    "We drop the dates prior to 2019 since COVID did not happen until March 2020. We kept 2019 to have reference to the general trend of happiness prior to the event/peak of COVID-- and are able to compare it to the conception, and the ongoing/everchanging pandemic."
   ]
  },
  {
   "cell_type": "code",
   "execution_count": 4,
   "metadata": {},
   "outputs": [],
   "source": [
    "#removing data from years before 2019\n",
    "happiness = happiness[happiness['Year'] >= 2019]"
   ]
  },
  {
   "cell_type": "markdown",
   "metadata": {},
   "source": [
    "Here there was an error in the dataset where they used commas instead of decimals."
   ]
  },
  {
   "cell_type": "code",
   "execution_count": 5,
   "metadata": {},
   "outputs": [],
   "source": [
    "#cleaning data to conform to \n",
    "happiness['Country'] = happiness['Country'].astype(str).str.lower()\n",
    "happiness['Freedom'] = happiness['Freedom'].str.replace(',','.').astype(float)\n",
    "happiness['Trust (Government Corruption)'] = happiness['Trust (Government Corruption)'].str.replace(',','.').astype(float)\n",
    "happiness['Economy (GDP per Capita)'] = happiness['Economy (GDP per Capita)'].str.replace(',','.').astype(float)\n",
    "happiness['Happiness Score'] = happiness['Happiness Score'].str.replace(',','.').astype(float)"
   ]
  },
  {
   "cell_type": "markdown",
   "metadata": {},
   "source": [
    "Here we are resetting the index to only have our desired values."
   ]
  },
  {
   "cell_type": "code",
   "execution_count": 6,
   "metadata": {},
   "outputs": [
    {
     "data": {
      "text/html": [
       "<div>\n",
       "<style scoped>\n",
       "    .dataframe tbody tr th:only-of-type {\n",
       "        vertical-align: middle;\n",
       "    }\n",
       "\n",
       "    .dataframe tbody tr th {\n",
       "        vertical-align: top;\n",
       "    }\n",
       "\n",
       "    .dataframe thead th {\n",
       "        text-align: right;\n",
       "    }\n",
       "</style>\n",
       "<table border=\"1\" class=\"dataframe\">\n",
       "  <thead>\n",
       "    <tr style=\"text-align: right;\">\n",
       "      <th></th>\n",
       "      <th>index</th>\n",
       "      <th>Country</th>\n",
       "      <th>Region</th>\n",
       "      <th>Happiness Rank</th>\n",
       "      <th>Happiness Score</th>\n",
       "      <th>Economy (GDP per Capita)</th>\n",
       "      <th>Freedom</th>\n",
       "      <th>Trust (Government Corruption)</th>\n",
       "      <th>Year</th>\n",
       "    </tr>\n",
       "  </thead>\n",
       "  <tbody>\n",
       "    <tr>\n",
       "      <td>0</td>\n",
       "      <td>625</td>\n",
       "      <td>finland</td>\n",
       "      <td>Western Europe</td>\n",
       "      <td>1</td>\n",
       "      <td>7.769</td>\n",
       "      <td>1.340</td>\n",
       "      <td>0.596</td>\n",
       "      <td>0.393</td>\n",
       "      <td>2019</td>\n",
       "    </tr>\n",
       "    <tr>\n",
       "      <td>1</td>\n",
       "      <td>626</td>\n",
       "      <td>denmark</td>\n",
       "      <td>Western Europe</td>\n",
       "      <td>2</td>\n",
       "      <td>7.600</td>\n",
       "      <td>1.383</td>\n",
       "      <td>0.592</td>\n",
       "      <td>0.410</td>\n",
       "      <td>2019</td>\n",
       "    </tr>\n",
       "    <tr>\n",
       "      <td>2</td>\n",
       "      <td>627</td>\n",
       "      <td>norway</td>\n",
       "      <td>Western Europe</td>\n",
       "      <td>3</td>\n",
       "      <td>7.554</td>\n",
       "      <td>1.488</td>\n",
       "      <td>0.603</td>\n",
       "      <td>0.341</td>\n",
       "      <td>2019</td>\n",
       "    </tr>\n",
       "    <tr>\n",
       "      <td>3</td>\n",
       "      <td>628</td>\n",
       "      <td>iceland</td>\n",
       "      <td>Western Europe</td>\n",
       "      <td>4</td>\n",
       "      <td>7.494</td>\n",
       "      <td>1.380</td>\n",
       "      <td>0.591</td>\n",
       "      <td>0.118</td>\n",
       "      <td>2019</td>\n",
       "    </tr>\n",
       "    <tr>\n",
       "      <td>4</td>\n",
       "      <td>629</td>\n",
       "      <td>netherlands</td>\n",
       "      <td>Western Europe</td>\n",
       "      <td>5</td>\n",
       "      <td>7.488</td>\n",
       "      <td>1.396</td>\n",
       "      <td>0.557</td>\n",
       "      <td>0.298</td>\n",
       "      <td>2019</td>\n",
       "    </tr>\n",
       "    <tr>\n",
       "      <td>...</td>\n",
       "      <td>...</td>\n",
       "      <td>...</td>\n",
       "      <td>...</td>\n",
       "      <td>...</td>\n",
       "      <td>...</td>\n",
       "      <td>...</td>\n",
       "      <td>...</td>\n",
       "      <td>...</td>\n",
       "      <td>...</td>\n",
       "    </tr>\n",
       "    <tr>\n",
       "      <td>599</td>\n",
       "      <td>1224</td>\n",
       "      <td>botswana*</td>\n",
       "      <td>-</td>\n",
       "      <td>142</td>\n",
       "      <td>3.471</td>\n",
       "      <td>1.503</td>\n",
       "      <td>0.571</td>\n",
       "      <td>0.102</td>\n",
       "      <td>2022</td>\n",
       "    </tr>\n",
       "    <tr>\n",
       "      <td>600</td>\n",
       "      <td>1225</td>\n",
       "      <td>rwanda*</td>\n",
       "      <td>-</td>\n",
       "      <td>143</td>\n",
       "      <td>3.268</td>\n",
       "      <td>0.785</td>\n",
       "      <td>0.621</td>\n",
       "      <td>0.544</td>\n",
       "      <td>2022</td>\n",
       "    </tr>\n",
       "    <tr>\n",
       "      <td>601</td>\n",
       "      <td>1226</td>\n",
       "      <td>zimbabwe</td>\n",
       "      <td>Sub-Saharan Africa</td>\n",
       "      <td>144</td>\n",
       "      <td>2.995</td>\n",
       "      <td>0.947</td>\n",
       "      <td>0.329</td>\n",
       "      <td>0.105</td>\n",
       "      <td>2022</td>\n",
       "    </tr>\n",
       "    <tr>\n",
       "      <td>602</td>\n",
       "      <td>1227</td>\n",
       "      <td>lebanon</td>\n",
       "      <td>Middle East and Northern Africa</td>\n",
       "      <td>145</td>\n",
       "      <td>2.955</td>\n",
       "      <td>1.392</td>\n",
       "      <td>0.103</td>\n",
       "      <td>0.034</td>\n",
       "      <td>2022</td>\n",
       "    </tr>\n",
       "    <tr>\n",
       "      <td>603</td>\n",
       "      <td>1228</td>\n",
       "      <td>afghanistan</td>\n",
       "      <td>Southern Asia</td>\n",
       "      <td>146</td>\n",
       "      <td>2.404</td>\n",
       "      <td>0.758</td>\n",
       "      <td>0.000</td>\n",
       "      <td>0.005</td>\n",
       "      <td>2022</td>\n",
       "    </tr>\n",
       "  </tbody>\n",
       "</table>\n",
       "<p>604 rows × 9 columns</p>\n",
       "</div>"
      ],
      "text/plain": [
       "     index      Country                           Region  Happiness Rank  \\\n",
       "0      625      finland                   Western Europe               1   \n",
       "1      626      denmark                   Western Europe               2   \n",
       "2      627       norway                   Western Europe               3   \n",
       "3      628      iceland                   Western Europe               4   \n",
       "4      629  netherlands                   Western Europe               5   \n",
       "..     ...          ...                              ...             ...   \n",
       "599   1224    botswana*                                -             142   \n",
       "600   1225      rwanda*                                -             143   \n",
       "601   1226     zimbabwe               Sub-Saharan Africa             144   \n",
       "602   1227      lebanon  Middle East and Northern Africa             145   \n",
       "603   1228  afghanistan                    Southern Asia             146   \n",
       "\n",
       "     Happiness Score  Economy (GDP per Capita)  Freedom  \\\n",
       "0              7.769                     1.340    0.596   \n",
       "1              7.600                     1.383    0.592   \n",
       "2              7.554                     1.488    0.603   \n",
       "3              7.494                     1.380    0.591   \n",
       "4              7.488                     1.396    0.557   \n",
       "..               ...                       ...      ...   \n",
       "599            3.471                     1.503    0.571   \n",
       "600            3.268                     0.785    0.621   \n",
       "601            2.995                     0.947    0.329   \n",
       "602            2.955                     1.392    0.103   \n",
       "603            2.404                     0.758    0.000   \n",
       "\n",
       "     Trust (Government Corruption)  Year  \n",
       "0                            0.393  2019  \n",
       "1                            0.410  2019  \n",
       "2                            0.341  2019  \n",
       "3                            0.118  2019  \n",
       "4                            0.298  2019  \n",
       "..                             ...   ...  \n",
       "599                          0.102  2022  \n",
       "600                          0.544  2022  \n",
       "601                          0.105  2022  \n",
       "602                          0.034  2022  \n",
       "603                          0.005  2022  \n",
       "\n",
       "[604 rows x 9 columns]"
      ]
     },
     "execution_count": 6,
     "metadata": {},
     "output_type": "execute_result"
    }
   ],
   "source": [
    "happiness = happiness.reset_index()\n",
    "happiness"
   ]
  },
  {
   "cell_type": "markdown",
   "metadata": {},
   "source": [
    "### Next, we clean the COVID tweets dataset."
   ]
  },
  {
   "cell_type": "markdown",
   "metadata": {},
   "source": [
    "We have 166,656 tweets provided in the dataset, but since we are looking into global COVID numbers and happiness ranks, we only need the locations of the users who are tweeting the hashtag #covid19. Hence, we do not need all 13 parameters and can instead reduce the `tweets` dataframe down to user location and date. "
   ]
  },
  {
   "cell_type": "code",
   "execution_count": 7,
   "metadata": {},
   "outputs": [],
   "source": [
    "# delete the irrelevant columns\n",
    "tweets = tweets[['user_name', 'user_location', 'date', 'text']]\n",
    "\n",
    "# drop the null values\n",
    "tweets = tweets.dropna().reset_index(drop=True)"
   ]
  },
  {
   "cell_type": "markdown",
   "metadata": {},
   "source": [
    "Now, we want to get an updated look on our `tweets` dataframe"
   ]
  },
  {
   "cell_type": "code",
   "execution_count": 8,
   "metadata": {},
   "outputs": [
    {
     "data": {
      "text/html": [
       "<div>\n",
       "<style scoped>\n",
       "    .dataframe tbody tr th:only-of-type {\n",
       "        vertical-align: middle;\n",
       "    }\n",
       "\n",
       "    .dataframe tbody tr th {\n",
       "        vertical-align: top;\n",
       "    }\n",
       "\n",
       "    .dataframe thead th {\n",
       "        text-align: right;\n",
       "    }\n",
       "</style>\n",
       "<table border=\"1\" class=\"dataframe\">\n",
       "  <thead>\n",
       "    <tr style=\"text-align: right;\">\n",
       "      <th></th>\n",
       "      <th>user_name</th>\n",
       "      <th>user_location</th>\n",
       "      <th>date</th>\n",
       "      <th>text</th>\n",
       "    </tr>\n",
       "  </thead>\n",
       "  <tbody>\n",
       "    <tr>\n",
       "      <td>0</td>\n",
       "      <td>ᏉᎥ☻լꂅϮ</td>\n",
       "      <td>astroworld</td>\n",
       "      <td>2020-07-25 12:27:21</td>\n",
       "      <td>If I smelled the scent of hand sanitizers toda...</td>\n",
       "    </tr>\n",
       "    <tr>\n",
       "      <td>1</td>\n",
       "      <td>Tom Basile 🇺🇸</td>\n",
       "      <td>New York, NY</td>\n",
       "      <td>2020-07-25 12:27:17</td>\n",
       "      <td>Hey @Yankees @YankeesPR and @MLB - wouldn't it...</td>\n",
       "    </tr>\n",
       "    <tr>\n",
       "      <td>2</td>\n",
       "      <td>Time4fisticuffs</td>\n",
       "      <td>Pewee Valley, KY</td>\n",
       "      <td>2020-07-25 12:27:14</td>\n",
       "      <td>@diane3443 @wdunlap @realDonaldTrump Trump nev...</td>\n",
       "    </tr>\n",
       "    <tr>\n",
       "      <td>3</td>\n",
       "      <td>ethel mertz</td>\n",
       "      <td>Stuck in the Middle</td>\n",
       "      <td>2020-07-25 12:27:10</td>\n",
       "      <td>@brookbanktv The one gift #COVID19 has give me...</td>\n",
       "    </tr>\n",
       "    <tr>\n",
       "      <td>4</td>\n",
       "      <td>DIPR-J&amp;K</td>\n",
       "      <td>Jammu and Kashmir</td>\n",
       "      <td>2020-07-25 12:27:08</td>\n",
       "      <td>25 July : Media Bulletin on Novel #CoronaVirus...</td>\n",
       "    </tr>\n",
       "  </tbody>\n",
       "</table>\n",
       "</div>"
      ],
      "text/plain": [
       "         user_name         user_location                 date  \\\n",
       "0           ᏉᎥ☻լꂅϮ            astroworld  2020-07-25 12:27:21   \n",
       "1    Tom Basile 🇺🇸          New York, NY  2020-07-25 12:27:17   \n",
       "2  Time4fisticuffs      Pewee Valley, KY  2020-07-25 12:27:14   \n",
       "3      ethel mertz  Stuck in the Middle   2020-07-25 12:27:10   \n",
       "4         DIPR-J&K     Jammu and Kashmir  2020-07-25 12:27:08   \n",
       "\n",
       "                                                text  \n",
       "0  If I smelled the scent of hand sanitizers toda...  \n",
       "1  Hey @Yankees @YankeesPR and @MLB - wouldn't it...  \n",
       "2  @diane3443 @wdunlap @realDonaldTrump Trump nev...  \n",
       "3  @brookbanktv The one gift #COVID19 has give me...  \n",
       "4  25 July : Media Bulletin on Novel #CoronaVirus...  "
      ]
     },
     "execution_count": 8,
     "metadata": {},
     "output_type": "execute_result"
    }
   ],
   "source": [
    "tweets.head()"
   ]
  },
  {
   "cell_type": "code",
   "execution_count": 9,
   "metadata": {},
   "outputs": [
    {
     "data": {
      "text/plain": [
       "(142337, 4)"
      ]
     },
     "execution_count": 9,
     "metadata": {},
     "output_type": "execute_result"
    }
   ],
   "source": [
    "tweets.shape"
   ]
  },
  {
   "cell_type": "markdown",
   "metadata": {},
   "source": [
    "After doing some preliminary cleaning of our tweets dataset, we can now see that our dataset has been condensed to just 142,337 tweets. However, from the 'astroworld' location in the first index of the dataset, we can see that there is still a lot more cleaning to be done."
   ]
  },
  {
   "cell_type": "code",
   "execution_count": 10,
   "metadata": {},
   "outputs": [
    {
     "name": "stdout",
     "output_type": "stream",
     "text": [
      "India                            3741\n",
      "United States                    2455\n",
      "New Delhi, India                 1721\n",
      "Mumbai, India                    1401\n",
      "Washington, DC                   1354\n",
      "                                 ... \n",
      "Berkeley                            1\n",
      "Ballarat                            1\n",
      "370 Interlocken Blvd. Ste 600       1\n",
      "Paradise Valley, AZ                 1\n",
      "CHINSURAH, HOOGHLY                  1\n",
      "Name: user_location, Length: 26920, dtype: int64\n"
     ]
    }
   ],
   "source": [
    "# see where most of the Twitter users are tweeting from\n",
    "locations = tweets['user_location'].value_counts()\n",
    "print(locations)"
   ]
  },
  {
   "cell_type": "markdown",
   "metadata": {},
   "source": [
    "Here, we can see that the locations at the top are not all countries, but include states and cities. At the bottom, we can also see that some of the locations that users put are not actual locations, such as 'Some, Sarcasm'. Through this data cleaning process, we aim to remove invalid locations and generalize the cities into their respective countries."
   ]
  },
  {
   "cell_type": "markdown",
   "metadata": {},
   "source": [
    "We will start by looking at the `countries` dataframe"
   ]
  },
  {
   "cell_type": "code",
   "execution_count": 11,
   "metadata": {},
   "outputs": [
    {
     "data": {
      "text/html": [
       "<div>\n",
       "<style scoped>\n",
       "    .dataframe tbody tr th:only-of-type {\n",
       "        vertical-align: middle;\n",
       "    }\n",
       "\n",
       "    .dataframe tbody tr th {\n",
       "        vertical-align: top;\n",
       "    }\n",
       "\n",
       "    .dataframe thead th {\n",
       "        text-align: right;\n",
       "    }\n",
       "</style>\n",
       "<table border=\"1\" class=\"dataframe\">\n",
       "  <thead>\n",
       "    <tr style=\"text-align: right;\">\n",
       "      <th></th>\n",
       "      <th>city</th>\n",
       "      <th>city_ascii</th>\n",
       "      <th>lat</th>\n",
       "      <th>lng</th>\n",
       "      <th>country</th>\n",
       "      <th>iso2</th>\n",
       "      <th>iso3</th>\n",
       "      <th>admin_name</th>\n",
       "      <th>capital</th>\n",
       "      <th>population</th>\n",
       "      <th>id</th>\n",
       "    </tr>\n",
       "  </thead>\n",
       "  <tbody>\n",
       "    <tr>\n",
       "      <td>0</td>\n",
       "      <td>Tokyo</td>\n",
       "      <td>Tokyo</td>\n",
       "      <td>35.6850</td>\n",
       "      <td>139.7514</td>\n",
       "      <td>Japan</td>\n",
       "      <td>JP</td>\n",
       "      <td>JPN</td>\n",
       "      <td>Tōkyō</td>\n",
       "      <td>primary</td>\n",
       "      <td>35676000.0</td>\n",
       "      <td>1392685764</td>\n",
       "    </tr>\n",
       "    <tr>\n",
       "      <td>1</td>\n",
       "      <td>New York</td>\n",
       "      <td>New York</td>\n",
       "      <td>40.6943</td>\n",
       "      <td>-73.9249</td>\n",
       "      <td>United States</td>\n",
       "      <td>US</td>\n",
       "      <td>USA</td>\n",
       "      <td>New York</td>\n",
       "      <td>NaN</td>\n",
       "      <td>19354922.0</td>\n",
       "      <td>1840034016</td>\n",
       "    </tr>\n",
       "    <tr>\n",
       "      <td>2</td>\n",
       "      <td>Mexico City</td>\n",
       "      <td>Mexico City</td>\n",
       "      <td>19.4424</td>\n",
       "      <td>-99.1310</td>\n",
       "      <td>Mexico</td>\n",
       "      <td>MX</td>\n",
       "      <td>MEX</td>\n",
       "      <td>Ciudad de México</td>\n",
       "      <td>primary</td>\n",
       "      <td>19028000.0</td>\n",
       "      <td>1484247881</td>\n",
       "    </tr>\n",
       "    <tr>\n",
       "      <td>3</td>\n",
       "      <td>Mumbai</td>\n",
       "      <td>Mumbai</td>\n",
       "      <td>19.0170</td>\n",
       "      <td>72.8570</td>\n",
       "      <td>India</td>\n",
       "      <td>IN</td>\n",
       "      <td>IND</td>\n",
       "      <td>Mahārāshtra</td>\n",
       "      <td>admin</td>\n",
       "      <td>18978000.0</td>\n",
       "      <td>1356226629</td>\n",
       "    </tr>\n",
       "    <tr>\n",
       "      <td>4</td>\n",
       "      <td>São Paulo</td>\n",
       "      <td>Sao Paulo</td>\n",
       "      <td>-23.5587</td>\n",
       "      <td>-46.6250</td>\n",
       "      <td>Brazil</td>\n",
       "      <td>BR</td>\n",
       "      <td>BRA</td>\n",
       "      <td>São Paulo</td>\n",
       "      <td>admin</td>\n",
       "      <td>18845000.0</td>\n",
       "      <td>1076532519</td>\n",
       "    </tr>\n",
       "  </tbody>\n",
       "</table>\n",
       "</div>"
      ],
      "text/plain": [
       "          city   city_ascii      lat       lng        country iso2 iso3  \\\n",
       "0        Tokyo        Tokyo  35.6850  139.7514          Japan   JP  JPN   \n",
       "1     New York     New York  40.6943  -73.9249  United States   US  USA   \n",
       "2  Mexico City  Mexico City  19.4424  -99.1310         Mexico   MX  MEX   \n",
       "3       Mumbai       Mumbai  19.0170   72.8570          India   IN  IND   \n",
       "4    São Paulo    Sao Paulo -23.5587  -46.6250         Brazil   BR  BRA   \n",
       "\n",
       "         admin_name  capital  population          id  \n",
       "0             Tōkyō  primary  35676000.0  1392685764  \n",
       "1          New York      NaN  19354922.0  1840034016  \n",
       "2  Ciudad de México  primary  19028000.0  1484247881  \n",
       "3       Mahārāshtra    admin  18978000.0  1356226629  \n",
       "4         São Paulo    admin  18845000.0  1076532519  "
      ]
     },
     "execution_count": 11,
     "metadata": {},
     "output_type": "execute_result"
    }
   ],
   "source": [
    "cities.head()"
   ]
  },
  {
   "cell_type": "code",
   "execution_count": 12,
   "metadata": {},
   "outputs": [
    {
     "data": {
      "text/plain": [
       "(15493, 11)"
      ]
     },
     "execution_count": 12,
     "metadata": {},
     "output_type": "execute_result"
    }
   ],
   "source": [
    "cities.shape"
   ]
  },
  {
   "cell_type": "markdown",
   "metadata": {},
   "source": [
    "In the `cities` dataset, there are 11 different variables present. However, based on how Twitter users are allowed to label their locations, we decide that the most relevant columns are 'city', 'country', 'iso2', 'iso3', and 'admin_name'. Therefore, when comparing the locations in the `tweets` dataset, we will only use these variables as points of comparison."
   ]
  },
  {
   "cell_type": "markdown",
   "metadata": {},
   "source": [
    "First, we need to create a new column in the `tweets` dataset to store the correct and updated locations. We are filling it with null values so that at the end, the unfilled and invalid locations can be easily removed from the dataset."
   ]
  },
  {
   "cell_type": "code",
   "execution_count": 13,
   "metadata": {},
   "outputs": [],
   "source": [
    "tweets['location'] = np.NaN"
   ]
  },
  {
   "cell_type": "markdown",
   "metadata": {},
   "source": [
    "Next, we will parse through the `cities` dataset in order to get all the relevant city, state, country names into their respective list. In addition, we will include the alpha-2 and alpha-3 iso codes of the countries."
   ]
  },
  {
   "cell_type": "code",
   "execution_count": 14,
   "metadata": {},
   "outputs": [],
   "source": [
    "# put cities in a list\n",
    "cities_list = cities['city'].fillna(value='').str.lower().str.strip().values.tolist()\n",
    "\n",
    "# put states in a list\n",
    "admin_list = []\n",
    "for c in cities['admin_name'].str.lower().str.strip().values.tolist():\n",
    "    admin_list.append(c)\n",
    "\n",
    "# put alpha-2 codes in a list\n",
    "iso2_list = []\n",
    "for c in cities['iso2'].str.lower().str.strip().values.tolist():\n",
    "    if c not in iso2_list:\n",
    "        iso2_list.append(c)\n",
    "        \n",
    "# put alpha-3 codes in a list\n",
    "iso3_list = []\n",
    "for c in cities['iso3'].str.lower().str.strip().values.tolist():\n",
    "    if c not in iso3_list:\n",
    "        iso3_list.append(c)\n",
    "\n",
    "# put country names in a list\n",
    "countries_list = []\n",
    "for c in cities['country'].str.lower().str.strip().values.tolist():\n",
    "    if c not in countries_list:\n",
    "        countries_list.append(c)"
   ]
  },
  {
   "cell_type": "markdown",
   "metadata": {},
   "source": [
    "Now that we have a list of the Twitter locations from `tweets` and a list of the correct country names from `cities`, we can cross reference the Twitter locations with the possible city, state, country codes, and country names that we have compiled."
   ]
  },
  {
   "cell_type": "code",
   "execution_count": 15,
   "metadata": {},
   "outputs": [
    {
     "name": "stderr",
     "output_type": "stream",
     "text": [
      "/Users/viviancheung/opt/anaconda3/lib/python3.7/site-packages/ipykernel_launcher.py:16: SettingWithCopyWarning: \n",
      "A value is trying to be set on a copy of a slice from a DataFrame\n",
      "\n",
      "See the caveats in the documentation: http://pandas.pydata.org/pandas-docs/stable/user_guide/indexing.html#returning-a-view-versus-a-copy\n",
      "  app.launch_new_instance()\n",
      "/Users/viviancheung/opt/anaconda3/lib/python3.7/site-packages/pandas/core/indexing.py:205: SettingWithCopyWarning: \n",
      "A value is trying to be set on a copy of a slice from a DataFrame\n",
      "\n",
      "See the caveats in the documentation: http://pandas.pydata.org/pandas-docs/stable/user_guide/indexing.html#returning-a-view-versus-a-copy\n",
      "  self._setitem_with_indexer(indexer, value)\n"
     ]
    }
   ],
   "source": [
    "# list of country names to use when replacing locations\n",
    "country = cities['country'].fillna(value = '').str.lower().str.strip().values.tolist()\n",
    "\n",
    "# split the string to separate city/state from state/country\n",
    "location = tweets['user_location'].str.split(',')\n",
    "\n",
    "# parse through the Twitter locations\n",
    "for loc_ind in range(len(location)):\n",
    "    twitter_ind = loc_ind\n",
    "    loc_ind = location[loc_ind]\n",
    "    # check the individual strings with the lists we compiled earlier\n",
    "    for loc in loc_ind:\n",
    "        loc = loc.lower().strip()\n",
    "        if loc in cities_list:\n",
    "            loc_ind = cities_list.index(loc)\n",
    "            tweets['location'][twitter_ind] = country[loc_ind]\n",
    "            continue\n",
    "        if loc in admin_list:\n",
    "            loc_ind = admin_list.index(loc)\n",
    "            tweets['location'][twitter_ind] = country[loc_ind]\n",
    "            continue\n",
    "        if loc in countries_list:\n",
    "            loc_ind = countries_list.index(loc)\n",
    "            tweets['location'][twitter_ind] = country[loc_ind]\n",
    "            continue\n",
    "        if loc in iso2_list:\n",
    "            loc_ind = iso2_list.index(loc)\n",
    "            tweets['location'][twitter_ind] = country[loc_ind]\n",
    "            continue\n",
    "        if loc in iso3_list:\n",
    "            loc_ind = iso3_list.index(loc)\n",
    "            tweets['location'][twitter_ind] = country[loc_ind]\n",
    "            continue"
   ]
  },
  {
   "cell_type": "markdown",
   "metadata": {},
   "source": [
    "The warnings above are because we are replacing the null values in `tweets[location]` with the values from `country[loc_ind]`. However, they can be ignored because we want to replace the locations with the edited country names. Now that we have the correct countries for each respective Twitter location, we just need to clean the `tweets` dataset before the final dataset is complete."
   ]
  },
  {
   "cell_type": "code",
   "execution_count": 16,
   "metadata": {},
   "outputs": [],
   "source": [
    "# drop null values from the location column\n",
    "tweets = tweets.dropna().reset_index(drop=True)\n",
    "\n",
    "# drop the user_location column with the invalid locations\n",
    "tweets = tweets[['user_name', 'location', 'date', 'text']]"
   ]
  },
  {
   "cell_type": "markdown",
   "metadata": {},
   "source": [
    "Finally, we want to get an updated view of our `tweets` dataset."
   ]
  },
  {
   "cell_type": "code",
   "execution_count": 17,
   "metadata": {},
   "outputs": [
    {
     "name": "stdout",
     "output_type": "stream",
     "text": [
      "(101198, 4)\n"
     ]
    },
    {
     "data": {
      "text/html": [
       "<div>\n",
       "<style scoped>\n",
       "    .dataframe tbody tr th:only-of-type {\n",
       "        vertical-align: middle;\n",
       "    }\n",
       "\n",
       "    .dataframe tbody tr th {\n",
       "        vertical-align: top;\n",
       "    }\n",
       "\n",
       "    .dataframe thead th {\n",
       "        text-align: right;\n",
       "    }\n",
       "</style>\n",
       "<table border=\"1\" class=\"dataframe\">\n",
       "  <thead>\n",
       "    <tr style=\"text-align: right;\">\n",
       "      <th></th>\n",
       "      <th>user_name</th>\n",
       "      <th>location</th>\n",
       "      <th>date</th>\n",
       "      <th>text</th>\n",
       "    </tr>\n",
       "  </thead>\n",
       "  <tbody>\n",
       "    <tr>\n",
       "      <td>0</td>\n",
       "      <td>Tom Basile 🇺🇸</td>\n",
       "      <td>united states</td>\n",
       "      <td>2020-07-25 12:27:17</td>\n",
       "      <td>Hey @Yankees @YankeesPR and @MLB - wouldn't it...</td>\n",
       "    </tr>\n",
       "    <tr>\n",
       "      <td>1</td>\n",
       "      <td>Time4fisticuffs</td>\n",
       "      <td>china</td>\n",
       "      <td>2020-07-25 12:27:14</td>\n",
       "      <td>@diane3443 @wdunlap @realDonaldTrump Trump nev...</td>\n",
       "    </tr>\n",
       "    <tr>\n",
       "      <td>2</td>\n",
       "      <td>hr bartender</td>\n",
       "      <td>united states</td>\n",
       "      <td>2020-07-25 12:27:03</td>\n",
       "      <td>How #COVID19 Will Change Work in General (and ...</td>\n",
       "    </tr>\n",
       "    <tr>\n",
       "      <td>3</td>\n",
       "      <td>Creativegms</td>\n",
       "      <td>china</td>\n",
       "      <td>2020-07-25 12:26:50</td>\n",
       "      <td>Order here: https://t.co/4NUrGX6EmA\\n\\n#logo #...</td>\n",
       "    </tr>\n",
       "    <tr>\n",
       "      <td>4</td>\n",
       "      <td>DailyaddaaNews</td>\n",
       "      <td>india</td>\n",
       "      <td>2020-07-25 12:26:46</td>\n",
       "      <td>Rajasthan Government today started a Plasma Ba...</td>\n",
       "    </tr>\n",
       "  </tbody>\n",
       "</table>\n",
       "</div>"
      ],
      "text/plain": [
       "         user_name       location                 date  \\\n",
       "0    Tom Basile 🇺🇸  united states  2020-07-25 12:27:17   \n",
       "1  Time4fisticuffs          china  2020-07-25 12:27:14   \n",
       "2     hr bartender  united states  2020-07-25 12:27:03   \n",
       "3      Creativegms          china  2020-07-25 12:26:50   \n",
       "4   DailyaddaaNews          india  2020-07-25 12:26:46   \n",
       "\n",
       "                                                text  \n",
       "0  Hey @Yankees @YankeesPR and @MLB - wouldn't it...  \n",
       "1  @diane3443 @wdunlap @realDonaldTrump Trump nev...  \n",
       "2  How #COVID19 Will Change Work in General (and ...  \n",
       "3  Order here: https://t.co/4NUrGX6EmA\\n\\n#logo #...  \n",
       "4  Rajasthan Government today started a Plasma Ba...  "
      ]
     },
     "execution_count": 17,
     "metadata": {},
     "output_type": "execute_result"
    }
   ],
   "source": [
    "print(tweets.shape)\n",
    "tweets.head()"
   ]
  },
  {
   "cell_type": "markdown",
   "metadata": {},
   "source": [
    "To verify that we have all the correct names for our countries, we will check the value counts of the observations in the dataset."
   ]
  },
  {
   "cell_type": "code",
   "execution_count": 18,
   "metadata": {},
   "outputs": [
    {
     "name": "stdout",
     "output_type": "stream",
     "text": [
      "united states                        32964\n",
      "india                                19574\n",
      "china                                 8736\n",
      "united kingdom                        7216\n",
      "congo (kinshasa)                      5688\n",
      "                                     ...  \n",
      "falkland islands (islas malvinas)        1\n",
      "guinea                                   1\n",
      "bhutan                                   1\n",
      "maldives                                 1\n",
      "bahamas, the                             1\n",
      "Name: location, Length: 155, dtype: int64\n"
     ]
    }
   ],
   "source": [
    "# see where most of the Twitter users are tweeting from\n",
    "aggregate_tweets = tweets['location'].value_counts()\n",
    "print(aggregate_tweets)"
   ]
  },
  {
   "cell_type": "markdown",
   "metadata": {},
   "source": [
    "Because we want to see how many tweets are coming from each country, we want to create a new dataframe: `num_tweets`. This is essentially a way to turn our `value_counts()` into a dataframe."
   ]
  },
  {
   "cell_type": "code",
   "execution_count": 19,
   "metadata": {},
   "outputs": [
    {
     "data": {
      "text/html": [
       "<div>\n",
       "<style scoped>\n",
       "    .dataframe tbody tr th:only-of-type {\n",
       "        vertical-align: middle;\n",
       "    }\n",
       "\n",
       "    .dataframe tbody tr th {\n",
       "        vertical-align: top;\n",
       "    }\n",
       "\n",
       "    .dataframe thead th {\n",
       "        text-align: right;\n",
       "    }\n",
       "</style>\n",
       "<table border=\"1\" class=\"dataframe\">\n",
       "  <thead>\n",
       "    <tr style=\"text-align: right;\">\n",
       "      <th></th>\n",
       "      <th>location</th>\n",
       "      <th>aggregate_tweets</th>\n",
       "    </tr>\n",
       "  </thead>\n",
       "  <tbody>\n",
       "    <tr>\n",
       "      <td>0</td>\n",
       "      <td>united states</td>\n",
       "      <td>32964</td>\n",
       "    </tr>\n",
       "    <tr>\n",
       "      <td>1</td>\n",
       "      <td>india</td>\n",
       "      <td>19574</td>\n",
       "    </tr>\n",
       "    <tr>\n",
       "      <td>2</td>\n",
       "      <td>china</td>\n",
       "      <td>8736</td>\n",
       "    </tr>\n",
       "    <tr>\n",
       "      <td>3</td>\n",
       "      <td>united kingdom</td>\n",
       "      <td>7216</td>\n",
       "    </tr>\n",
       "    <tr>\n",
       "      <td>4</td>\n",
       "      <td>congo (kinshasa)</td>\n",
       "      <td>5688</td>\n",
       "    </tr>\n",
       "    <tr>\n",
       "      <td>...</td>\n",
       "      <td>...</td>\n",
       "      <td>...</td>\n",
       "    </tr>\n",
       "    <tr>\n",
       "      <td>150</td>\n",
       "      <td>falkland islands (islas malvinas)</td>\n",
       "      <td>1</td>\n",
       "    </tr>\n",
       "    <tr>\n",
       "      <td>151</td>\n",
       "      <td>guinea</td>\n",
       "      <td>1</td>\n",
       "    </tr>\n",
       "    <tr>\n",
       "      <td>152</td>\n",
       "      <td>bhutan</td>\n",
       "      <td>1</td>\n",
       "    </tr>\n",
       "    <tr>\n",
       "      <td>153</td>\n",
       "      <td>maldives</td>\n",
       "      <td>1</td>\n",
       "    </tr>\n",
       "    <tr>\n",
       "      <td>154</td>\n",
       "      <td>bahamas, the</td>\n",
       "      <td>1</td>\n",
       "    </tr>\n",
       "  </tbody>\n",
       "</table>\n",
       "<p>155 rows × 2 columns</p>\n",
       "</div>"
      ],
      "text/plain": [
       "                              location aggregate_tweets\n",
       "0                        united states            32964\n",
       "1                                india            19574\n",
       "2                                china             8736\n",
       "3                       united kingdom             7216\n",
       "4                     congo (kinshasa)             5688\n",
       "..                                 ...              ...\n",
       "150  falkland islands (islas malvinas)                1\n",
       "151                             guinea                1\n",
       "152                             bhutan                1\n",
       "153                           maldives                1\n",
       "154                       bahamas, the                1\n",
       "\n",
       "[155 rows x 2 columns]"
      ]
     },
     "execution_count": 19,
     "metadata": {},
     "output_type": "execute_result"
    }
   ],
   "source": [
    "num_tweets = pd.DataFrame(tweets.location.value_counts().reset_index().values, columns=['location', 'aggregate_tweets'])\n",
    "num_tweets"
   ]
  },
  {
   "cell_type": "markdown",
   "metadata": {},
   "source": [
    "### Then, we clean the lockdown dataset."
   ]
  },
  {
   "cell_type": "markdown",
   "metadata": {},
   "source": [
    "Since we don't need the links that reference the information, we will drop the `Reference` column and stick with the remaining three columns."
   ]
  },
  {
   "cell_type": "code",
   "execution_count": 20,
   "metadata": {},
   "outputs": [
    {
     "data": {
      "text/plain": [
       "Index(['Country/Region', 'Date', 'Type', 'Reference'], dtype='object')"
      ]
     },
     "execution_count": 20,
     "metadata": {},
     "output_type": "execute_result"
    }
   ],
   "source": [
    "# view all columns\n",
    "lockdown.columns"
   ]
  },
  {
   "cell_type": "code",
   "execution_count": 21,
   "metadata": {},
   "outputs": [
    {
     "data": {
      "text/html": [
       "<div>\n",
       "<style scoped>\n",
       "    .dataframe tbody tr th:only-of-type {\n",
       "        vertical-align: middle;\n",
       "    }\n",
       "\n",
       "    .dataframe tbody tr th {\n",
       "        vertical-align: top;\n",
       "    }\n",
       "\n",
       "    .dataframe thead th {\n",
       "        text-align: right;\n",
       "    }\n",
       "</style>\n",
       "<table border=\"1\" class=\"dataframe\">\n",
       "  <thead>\n",
       "    <tr style=\"text-align: right;\">\n",
       "      <th></th>\n",
       "      <th>Country/Region</th>\n",
       "      <th>Date</th>\n",
       "      <th>Type</th>\n",
       "    </tr>\n",
       "  </thead>\n",
       "  <tbody>\n",
       "    <tr>\n",
       "      <td>0</td>\n",
       "      <td>China</td>\n",
       "      <td>2020-01-23</td>\n",
       "      <td>Full</td>\n",
       "    </tr>\n",
       "    <tr>\n",
       "      <td>1</td>\n",
       "      <td>Hong Kong</td>\n",
       "      <td>2020-03-23</td>\n",
       "      <td>Full</td>\n",
       "    </tr>\n",
       "    <tr>\n",
       "      <td>2</td>\n",
       "      <td>Macau</td>\n",
       "      <td>2020-01-26</td>\n",
       "      <td>Full</td>\n",
       "    </tr>\n",
       "    <tr>\n",
       "      <td>3</td>\n",
       "      <td>Taiwan</td>\n",
       "      <td>2020-02-02</td>\n",
       "      <td>Full</td>\n",
       "    </tr>\n",
       "    <tr>\n",
       "      <td>4</td>\n",
       "      <td>United States</td>\n",
       "      <td>2020-03-23</td>\n",
       "      <td>Partial</td>\n",
       "    </tr>\n",
       "    <tr>\n",
       "      <td>...</td>\n",
       "      <td>...</td>\n",
       "      <td>...</td>\n",
       "      <td>...</td>\n",
       "    </tr>\n",
       "    <tr>\n",
       "      <td>195</td>\n",
       "      <td>Diamond Princess</td>\n",
       "      <td>NaN</td>\n",
       "      <td>NaN</td>\n",
       "    </tr>\n",
       "    <tr>\n",
       "      <td>196</td>\n",
       "      <td>Guinea-Bissau</td>\n",
       "      <td>NaN</td>\n",
       "      <td>NaN</td>\n",
       "    </tr>\n",
       "    <tr>\n",
       "      <td>197</td>\n",
       "      <td>Mali</td>\n",
       "      <td>2020-03-18</td>\n",
       "      <td>Full</td>\n",
       "    </tr>\n",
       "    <tr>\n",
       "      <td>198</td>\n",
       "      <td>Saint Kitts and Nevis</td>\n",
       "      <td>NaN</td>\n",
       "      <td>NaN</td>\n",
       "    </tr>\n",
       "    <tr>\n",
       "      <td>199</td>\n",
       "      <td>Burma</td>\n",
       "      <td>NaN</td>\n",
       "      <td>NaN</td>\n",
       "    </tr>\n",
       "  </tbody>\n",
       "</table>\n",
       "<p>200 rows × 3 columns</p>\n",
       "</div>"
      ],
      "text/plain": [
       "            Country/Region        Date     Type\n",
       "0                    China  2020-01-23     Full\n",
       "1                Hong Kong  2020-03-23     Full\n",
       "2                    Macau  2020-01-26     Full\n",
       "3                   Taiwan  2020-02-02     Full\n",
       "4            United States  2020-03-23  Partial\n",
       "..                     ...         ...      ...\n",
       "195       Diamond Princess         NaN      NaN\n",
       "196          Guinea-Bissau         NaN      NaN\n",
       "197                   Mali  2020-03-18     Full\n",
       "198  Saint Kitts and Nevis         NaN      NaN\n",
       "199                  Burma         NaN      NaN\n",
       "\n",
       "[200 rows x 3 columns]"
      ]
     },
     "execution_count": 21,
     "metadata": {},
     "output_type": "execute_result"
    }
   ],
   "source": [
    "# drop 'Reference column'\n",
    "lockdown = lockdown[['Country/Region', 'Date', 'Type']]\n",
    "lockdown"
   ]
  },
  {
   "cell_type": "markdown",
   "metadata": {},
   "source": [
    "We can see that there are many `NaN` values in our dataframe, so we will drop any rows containing null values."
   ]
  },
  {
   "cell_type": "code",
   "execution_count": 22,
   "metadata": {},
   "outputs": [],
   "source": [
    "lockdown = lockdown.dropna()"
   ]
  },
  {
   "cell_type": "markdown",
   "metadata": {},
   "source": [
    "Now we have our cleaned dataset that tells us which countries had lockdowns, when the lockdowns started, and the type of lockdown."
   ]
  },
  {
   "cell_type": "code",
   "execution_count": 23,
   "metadata": {},
   "outputs": [
    {
     "data": {
      "text/html": [
       "<div>\n",
       "<style scoped>\n",
       "    .dataframe tbody tr th:only-of-type {\n",
       "        vertical-align: middle;\n",
       "    }\n",
       "\n",
       "    .dataframe tbody tr th {\n",
       "        vertical-align: top;\n",
       "    }\n",
       "\n",
       "    .dataframe thead th {\n",
       "        text-align: right;\n",
       "    }\n",
       "</style>\n",
       "<table border=\"1\" class=\"dataframe\">\n",
       "  <thead>\n",
       "    <tr style=\"text-align: right;\">\n",
       "      <th></th>\n",
       "      <th>Country/Region</th>\n",
       "      <th>Date</th>\n",
       "      <th>Type</th>\n",
       "    </tr>\n",
       "  </thead>\n",
       "  <tbody>\n",
       "    <tr>\n",
       "      <td>0</td>\n",
       "      <td>China</td>\n",
       "      <td>2020-01-23</td>\n",
       "      <td>Full</td>\n",
       "    </tr>\n",
       "    <tr>\n",
       "      <td>1</td>\n",
       "      <td>Hong Kong</td>\n",
       "      <td>2020-03-23</td>\n",
       "      <td>Full</td>\n",
       "    </tr>\n",
       "    <tr>\n",
       "      <td>2</td>\n",
       "      <td>Macau</td>\n",
       "      <td>2020-01-26</td>\n",
       "      <td>Full</td>\n",
       "    </tr>\n",
       "    <tr>\n",
       "      <td>3</td>\n",
       "      <td>Taiwan</td>\n",
       "      <td>2020-02-02</td>\n",
       "      <td>Full</td>\n",
       "    </tr>\n",
       "    <tr>\n",
       "      <td>4</td>\n",
       "      <td>United States</td>\n",
       "      <td>2020-03-23</td>\n",
       "      <td>Partial</td>\n",
       "    </tr>\n",
       "    <tr>\n",
       "      <td>...</td>\n",
       "      <td>...</td>\n",
       "      <td>...</td>\n",
       "      <td>...</td>\n",
       "    </tr>\n",
       "    <tr>\n",
       "      <td>168</td>\n",
       "      <td>Montenegro</td>\n",
       "      <td>2020-03-24</td>\n",
       "      <td>Full</td>\n",
       "    </tr>\n",
       "    <tr>\n",
       "      <td>170</td>\n",
       "      <td>Kyrgyzstan</td>\n",
       "      <td>2020-03-24</td>\n",
       "      <td>Partial</td>\n",
       "    </tr>\n",
       "    <tr>\n",
       "      <td>171</td>\n",
       "      <td>Mauritius</td>\n",
       "      <td>2020-03-17</td>\n",
       "      <td>Partial</td>\n",
       "    </tr>\n",
       "    <tr>\n",
       "      <td>187</td>\n",
       "      <td>Uganda</td>\n",
       "      <td>2020-03-18</td>\n",
       "      <td>Full</td>\n",
       "    </tr>\n",
       "    <tr>\n",
       "      <td>197</td>\n",
       "      <td>Mali</td>\n",
       "      <td>2020-03-18</td>\n",
       "      <td>Full</td>\n",
       "    </tr>\n",
       "  </tbody>\n",
       "</table>\n",
       "<p>134 rows × 3 columns</p>\n",
       "</div>"
      ],
      "text/plain": [
       "    Country/Region        Date     Type\n",
       "0            China  2020-01-23     Full\n",
       "1        Hong Kong  2020-03-23     Full\n",
       "2            Macau  2020-01-26     Full\n",
       "3           Taiwan  2020-02-02     Full\n",
       "4    United States  2020-03-23  Partial\n",
       "..             ...         ...      ...\n",
       "168     Montenegro  2020-03-24     Full\n",
       "170     Kyrgyzstan  2020-03-24  Partial\n",
       "171      Mauritius  2020-03-17  Partial\n",
       "187         Uganda  2020-03-18     Full\n",
       "197           Mali  2020-03-18     Full\n",
       "\n",
       "[134 rows x 3 columns]"
      ]
     },
     "execution_count": 23,
     "metadata": {},
     "output_type": "execute_result"
    }
   ],
   "source": [
    "lockdown"
   ]
  },
  {
   "cell_type": "markdown",
   "metadata": {},
   "source": [
    "### Finally, we clean the vaccinations dataset."
   ]
  },
  {
   "cell_type": "markdown",
   "metadata": {},
   "source": [
    "Before doing anything with the `vaccinations` dataset, we want to first examine what columns are in the dataset."
   ]
  },
  {
   "cell_type": "code",
   "execution_count": 24,
   "metadata": {},
   "outputs": [
    {
     "data": {
      "text/plain": [
       "Index(['country', 'iso_code', 'date', 'total_vaccinations',\n",
       "       'people_vaccinated', 'people_fully_vaccinated',\n",
       "       'daily_vaccinations_raw', 'daily_vaccinations',\n",
       "       'total_vaccinations_per_hundred', 'people_vaccinated_per_hundred',\n",
       "       'people_fully_vaccinated_per_hundred', 'daily_vaccinations_per_million',\n",
       "       'vaccines', 'source_name', 'source_website'],\n",
       "      dtype='object')"
      ]
     },
     "execution_count": 24,
     "metadata": {},
     "output_type": "execute_result"
    }
   ],
   "source": [
    "# viewing all columns\n",
    "vaccinations.columns"
   ]
  },
  {
   "cell_type": "markdown",
   "metadata": {},
   "source": [
    "For this file, we took out `iso_code` because we can identify each country using the `country` column. We also took out the `date` column because we are analyzing the total number of vaccines in a broader timeline. We took out `people_vaccinated` because we are focusing on the number of people who are fully vaccinated. `daily_vaccinations` and `daily_vaccinations_raw` were both taken out since these columns aren't relevant to our research question."
   ]
  },
  {
   "cell_type": "code",
   "execution_count": 25,
   "metadata": {},
   "outputs": [],
   "source": [
    "# taking out NaN values with 0\n",
    "vaccinations = vaccinations.fillna(0)"
   ]
  },
  {
   "cell_type": "code",
   "execution_count": 26,
   "metadata": {},
   "outputs": [],
   "source": [
    "# choosing columns we want\n",
    "vaccinations = vaccinations[['country', 'total_vaccinations', 'people_fully_vaccinated', 'total_vaccinations_per_hundred', \n",
    "         'people_vaccinated_per_hundred', 'daily_vaccinations_per_million']]"
   ]
  },
  {
   "cell_type": "code",
   "execution_count": 27,
   "metadata": {},
   "outputs": [],
   "source": [
    "#setting up table by country\n",
    "vaccinations = pd.pivot_table(vaccinations, index=['country'],values=['total_vaccinations', 'people_fully_vaccinated',\n",
    "                                                  'total_vaccinations_per_hundred','people_vaccinated_per_hundred', \n",
    "                                                  'daily_vaccinations_per_million'], aggfunc='sum')"
   ]
  },
  {
   "cell_type": "markdown",
   "metadata": {},
   "source": [
    "We have our final table below."
   ]
  },
  {
   "cell_type": "code",
   "execution_count": 28,
   "metadata": {},
   "outputs": [
    {
     "data": {
      "text/html": [
       "<div>\n",
       "<style scoped>\n",
       "    .dataframe tbody tr th:only-of-type {\n",
       "        vertical-align: middle;\n",
       "    }\n",
       "\n",
       "    .dataframe tbody tr th {\n",
       "        vertical-align: top;\n",
       "    }\n",
       "\n",
       "    .dataframe thead th {\n",
       "        text-align: right;\n",
       "    }\n",
       "</style>\n",
       "<table border=\"1\" class=\"dataframe\">\n",
       "  <thead>\n",
       "    <tr style=\"text-align: right;\">\n",
       "      <th></th>\n",
       "      <th>daily_vaccinations_per_million</th>\n",
       "      <th>people_fully_vaccinated</th>\n",
       "      <th>people_vaccinated_per_hundred</th>\n",
       "      <th>total_vaccinations</th>\n",
       "      <th>total_vaccinations_per_hundred</th>\n",
       "    </tr>\n",
       "    <tr>\n",
       "      <th>country</th>\n",
       "      <th></th>\n",
       "      <th></th>\n",
       "      <th></th>\n",
       "      <th></th>\n",
       "      <th></th>\n",
       "    </tr>\n",
       "  </thead>\n",
       "  <tbody>\n",
       "    <tr>\n",
       "      <td>Afghanistan</td>\n",
       "      <td>1277.0</td>\n",
       "      <td>0.0</td>\n",
       "      <td>0.16</td>\n",
       "      <td>62200.0</td>\n",
       "      <td>0.16</td>\n",
       "    </tr>\n",
       "    <tr>\n",
       "      <td>Albania</td>\n",
       "      <td>41108.0</td>\n",
       "      <td>2316.0</td>\n",
       "      <td>0.50</td>\n",
       "      <td>1143532.0</td>\n",
       "      <td>39.75</td>\n",
       "    </tr>\n",
       "    <tr>\n",
       "      <td>Algeria</td>\n",
       "      <td>1568.0</td>\n",
       "      <td>0.0</td>\n",
       "      <td>0.00</td>\n",
       "      <td>75030.0</td>\n",
       "      <td>0.17</td>\n",
       "    </tr>\n",
       "    <tr>\n",
       "      <td>Andorra</td>\n",
       "      <td>103809.0</td>\n",
       "      <td>3701.0</td>\n",
       "      <td>28.79</td>\n",
       "      <td>37758.0</td>\n",
       "      <td>48.86</td>\n",
       "    </tr>\n",
       "    <tr>\n",
       "      <td>Angola</td>\n",
       "      <td>3271.0</td>\n",
       "      <td>0.0</td>\n",
       "      <td>0.83</td>\n",
       "      <td>272941.0</td>\n",
       "      <td>0.83</td>\n",
       "    </tr>\n",
       "    <tr>\n",
       "      <td>...</td>\n",
       "      <td>...</td>\n",
       "      <td>...</td>\n",
       "      <td>...</td>\n",
       "      <td>...</td>\n",
       "      <td>...</td>\n",
       "    </tr>\n",
       "    <tr>\n",
       "      <td>Uruguay</td>\n",
       "      <td>198438.0</td>\n",
       "      <td>296056.0</td>\n",
       "      <td>299.12</td>\n",
       "      <td>10685446.0</td>\n",
       "      <td>307.63</td>\n",
       "    </tr>\n",
       "    <tr>\n",
       "      <td>Venezuela</td>\n",
       "      <td>490.0</td>\n",
       "      <td>0.0</td>\n",
       "      <td>0.09</td>\n",
       "      <td>26574.0</td>\n",
       "      <td>0.09</td>\n",
       "    </tr>\n",
       "    <tr>\n",
       "      <td>Vietnam</td>\n",
       "      <td>523.0</td>\n",
       "      <td>0.0</td>\n",
       "      <td>0.82</td>\n",
       "      <td>805226.0</td>\n",
       "      <td>0.82</td>\n",
       "    </tr>\n",
       "    <tr>\n",
       "      <td>Wales</td>\n",
       "      <td>591774.0</td>\n",
       "      <td>10618364.0</td>\n",
       "      <td>2058.00</td>\n",
       "      <td>75504687.0</td>\n",
       "      <td>2394.77</td>\n",
       "    </tr>\n",
       "    <tr>\n",
       "      <td>Zimbabwe</td>\n",
       "      <td>6257.0</td>\n",
       "      <td>111208.0</td>\n",
       "      <td>10.80</td>\n",
       "      <td>1717045.0</td>\n",
       "      <td>11.55</td>\n",
       "    </tr>\n",
       "  </tbody>\n",
       "</table>\n",
       "<p>166 rows × 5 columns</p>\n",
       "</div>"
      ],
      "text/plain": [
       "             daily_vaccinations_per_million  people_fully_vaccinated  \\\n",
       "country                                                                \n",
       "Afghanistan                          1277.0                      0.0   \n",
       "Albania                             41108.0                   2316.0   \n",
       "Algeria                              1568.0                      0.0   \n",
       "Andorra                            103809.0                   3701.0   \n",
       "Angola                               3271.0                      0.0   \n",
       "...                                     ...                      ...   \n",
       "Uruguay                            198438.0                 296056.0   \n",
       "Venezuela                             490.0                      0.0   \n",
       "Vietnam                               523.0                      0.0   \n",
       "Wales                              591774.0               10618364.0   \n",
       "Zimbabwe                             6257.0                 111208.0   \n",
       "\n",
       "             people_vaccinated_per_hundred  total_vaccinations  \\\n",
       "country                                                          \n",
       "Afghanistan                           0.16             62200.0   \n",
       "Albania                               0.50           1143532.0   \n",
       "Algeria                               0.00             75030.0   \n",
       "Andorra                              28.79             37758.0   \n",
       "Angola                                0.83            272941.0   \n",
       "...                                    ...                 ...   \n",
       "Uruguay                             299.12          10685446.0   \n",
       "Venezuela                             0.09             26574.0   \n",
       "Vietnam                               0.82            805226.0   \n",
       "Wales                              2058.00          75504687.0   \n",
       "Zimbabwe                             10.80           1717045.0   \n",
       "\n",
       "             total_vaccinations_per_hundred  \n",
       "country                                      \n",
       "Afghanistan                            0.16  \n",
       "Albania                               39.75  \n",
       "Algeria                                0.17  \n",
       "Andorra                               48.86  \n",
       "Angola                                 0.83  \n",
       "...                                     ...  \n",
       "Uruguay                              307.63  \n",
       "Venezuela                              0.09  \n",
       "Vietnam                                0.82  \n",
       "Wales                               2394.77  \n",
       "Zimbabwe                              11.55  \n",
       "\n",
       "[166 rows x 5 columns]"
      ]
     },
     "execution_count": 28,
     "metadata": {},
     "output_type": "execute_result"
    }
   ],
   "source": [
    "vaccinations"
   ]
  },
  {
   "cell_type": "markdown",
   "metadata": {},
   "source": [
    "### Now that our datasets have been cleaned, we can combine them"
   ]
  },
  {
   "cell_type": "markdown",
   "metadata": {},
   "source": [
    "The most important column in all of the datasets is the country/location, so that is how we're going to merge the datasets. First, we want to put all our cleaned datasets in alphanumeric order for easier readability and organization. "
   ]
  },
  {
   "cell_type": "code",
   "execution_count": 29,
   "metadata": {},
   "outputs": [],
   "source": [
    "# sort lockdown df in alphanumeric order\n",
    "lockdown = lockdown.sort_values('Country/Region', ascending=True).reset_index(drop=True)\n",
    "\n",
    "# sort num_tweets df in alphanumeric order\n",
    "num_tweets = num_tweets.sort_values('location', ascending=True).reset_index(drop=True)"
   ]
  },
  {
   "cell_type": "markdown",
   "metadata": {},
   "source": [
    "Finally, we will merge the `vaccinations` and `lockdown` dataframes and assign them to the dataframe, `covid`. We decided on these three datasets specifically because they are all directly related to COVID statistics and associated government procedures. "
   ]
  },
  {
   "cell_type": "code",
   "execution_count": 30,
   "metadata": {},
   "outputs": [],
   "source": [
    "# merge vaccinations and lockdown on country in vaccinations, and Country/Region in lockdown\n",
    "covid = pd.merge(vaccinations, lockdown, left_on='country', right_on='Country/Region', how='right')\n",
    "\n",
    "# merge num_tweets and covid\n",
    "covid['Country/Region'] = covid['Country/Region'].str.lower()\n",
    "covid = pd.merge(num_tweets, covid, left_on='location', right_on='Country/Region', how='right')\n",
    "\n",
    "# re-organize columns in covid dataset and clean again\n",
    "covid = covid[['location', 'aggregate_tweets', 'daily_vaccinations_per_million', 'people_fully_vaccinated', 'people_vaccinated_per_hundred', 'total_vaccinations', 'total_vaccinations_per_hundred', 'Date', 'Type']]\n",
    "covid = covid.rename(columns={'location': 'Country'})\n",
    "covid = covid.dropna()"
   ]
  },
  {
   "cell_type": "markdown",
   "metadata": {},
   "source": [
    "We have our final `covid` dataset below"
   ]
  },
  {
   "cell_type": "code",
   "execution_count": 31,
   "metadata": {},
   "outputs": [
    {
     "data": {
      "text/html": [
       "<div>\n",
       "<style scoped>\n",
       "    .dataframe tbody tr th:only-of-type {\n",
       "        vertical-align: middle;\n",
       "    }\n",
       "\n",
       "    .dataframe tbody tr th {\n",
       "        vertical-align: top;\n",
       "    }\n",
       "\n",
       "    .dataframe thead th {\n",
       "        text-align: right;\n",
       "    }\n",
       "</style>\n",
       "<table border=\"1\" class=\"dataframe\">\n",
       "  <thead>\n",
       "    <tr style=\"text-align: right;\">\n",
       "      <th></th>\n",
       "      <th>Country</th>\n",
       "      <th>aggregate_tweets</th>\n",
       "      <th>daily_vaccinations_per_million</th>\n",
       "      <th>people_fully_vaccinated</th>\n",
       "      <th>people_vaccinated_per_hundred</th>\n",
       "      <th>total_vaccinations</th>\n",
       "      <th>total_vaccinations_per_hundred</th>\n",
       "      <th>Date</th>\n",
       "      <th>Type</th>\n",
       "    </tr>\n",
       "  </thead>\n",
       "  <tbody>\n",
       "    <tr>\n",
       "      <td>0</td>\n",
       "      <td>afghanistan</td>\n",
       "      <td>9</td>\n",
       "      <td>1277.0</td>\n",
       "      <td>0.000000e+00</td>\n",
       "      <td>0.16</td>\n",
       "      <td>6.220000e+04</td>\n",
       "      <td>0.16</td>\n",
       "      <td>2020-03-24</td>\n",
       "      <td>Full</td>\n",
       "    </tr>\n",
       "    <tr>\n",
       "      <td>1</td>\n",
       "      <td>albania</td>\n",
       "      <td>4</td>\n",
       "      <td>41108.0</td>\n",
       "      <td>2.316000e+03</td>\n",
       "      <td>0.50</td>\n",
       "      <td>1.143532e+06</td>\n",
       "      <td>39.75</td>\n",
       "      <td>2020-03-08</td>\n",
       "      <td>Full</td>\n",
       "    </tr>\n",
       "    <tr>\n",
       "      <td>2</td>\n",
       "      <td>algeria</td>\n",
       "      <td>10</td>\n",
       "      <td>1568.0</td>\n",
       "      <td>0.000000e+00</td>\n",
       "      <td>0.00</td>\n",
       "      <td>7.503000e+04</td>\n",
       "      <td>0.17</td>\n",
       "      <td>2020-03-24</td>\n",
       "      <td>Full</td>\n",
       "    </tr>\n",
       "    <tr>\n",
       "      <td>3</td>\n",
       "      <td>argentina</td>\n",
       "      <td>964</td>\n",
       "      <td>86900.0</td>\n",
       "      <td>2.303529e+07</td>\n",
       "      <td>188.14</td>\n",
       "      <td>1.086167e+08</td>\n",
       "      <td>240.34</td>\n",
       "      <td>2020-03-20</td>\n",
       "      <td>Full</td>\n",
       "    </tr>\n",
       "    <tr>\n",
       "      <td>4</td>\n",
       "      <td>australia</td>\n",
       "      <td>1898</td>\n",
       "      <td>25411.0</td>\n",
       "      <td>0.000000e+00</td>\n",
       "      <td>4.86</td>\n",
       "      <td>9.785319e+06</td>\n",
       "      <td>38.39</td>\n",
       "      <td>2020-03-25</td>\n",
       "      <td>Partial</td>\n",
       "    </tr>\n",
       "    <tr>\n",
       "      <td>...</td>\n",
       "      <td>...</td>\n",
       "      <td>...</td>\n",
       "      <td>...</td>\n",
       "      <td>...</td>\n",
       "      <td>...</td>\n",
       "      <td>...</td>\n",
       "      <td>...</td>\n",
       "      <td>...</td>\n",
       "      <td>...</td>\n",
       "    </tr>\n",
       "    <tr>\n",
       "      <td>97</td>\n",
       "      <td>united kingdom</td>\n",
       "      <td>7216</td>\n",
       "      <td>519999.0</td>\n",
       "      <td>1.014450e+08</td>\n",
       "      <td>2074.69</td>\n",
       "      <td>1.509896e+09</td>\n",
       "      <td>2224.20</td>\n",
       "      <td>2020-03-23</td>\n",
       "      <td>Full</td>\n",
       "    </tr>\n",
       "    <tr>\n",
       "      <td>98</td>\n",
       "      <td>united states</td>\n",
       "      <td>32964</td>\n",
       "      <td>452355.0</td>\n",
       "      <td>1.824732e+09</td>\n",
       "      <td>1171.64</td>\n",
       "      <td>5.748900e+09</td>\n",
       "      <td>1718.96</td>\n",
       "      <td>2020-03-23</td>\n",
       "      <td>Partial</td>\n",
       "    </tr>\n",
       "    <tr>\n",
       "      <td>99</td>\n",
       "      <td>uruguay</td>\n",
       "      <td>460</td>\n",
       "      <td>198438.0</td>\n",
       "      <td>2.960560e+05</td>\n",
       "      <td>299.12</td>\n",
       "      <td>1.068545e+07</td>\n",
       "      <td>307.63</td>\n",
       "      <td>2020-03-16</td>\n",
       "      <td>Full</td>\n",
       "    </tr>\n",
       "    <tr>\n",
       "      <td>101</td>\n",
       "      <td>venezuela</td>\n",
       "      <td>310</td>\n",
       "      <td>490.0</td>\n",
       "      <td>0.000000e+00</td>\n",
       "      <td>0.09</td>\n",
       "      <td>2.657400e+04</td>\n",
       "      <td>0.09</td>\n",
       "      <td>2020-03-16</td>\n",
       "      <td>Full</td>\n",
       "    </tr>\n",
       "    <tr>\n",
       "      <td>102</td>\n",
       "      <td>vietnam</td>\n",
       "      <td>70</td>\n",
       "      <td>523.0</td>\n",
       "      <td>0.000000e+00</td>\n",
       "      <td>0.82</td>\n",
       "      <td>8.052260e+05</td>\n",
       "      <td>0.82</td>\n",
       "      <td>2020-03-19</td>\n",
       "      <td>Full</td>\n",
       "    </tr>\n",
       "  </tbody>\n",
       "</table>\n",
       "<p>96 rows × 9 columns</p>\n",
       "</div>"
      ],
      "text/plain": [
       "            Country aggregate_tweets  daily_vaccinations_per_million  \\\n",
       "0       afghanistan                9                          1277.0   \n",
       "1           albania                4                         41108.0   \n",
       "2           algeria               10                          1568.0   \n",
       "3         argentina              964                         86900.0   \n",
       "4         australia             1898                         25411.0   \n",
       "..              ...              ...                             ...   \n",
       "97   united kingdom             7216                        519999.0   \n",
       "98    united states            32964                        452355.0   \n",
       "99          uruguay              460                        198438.0   \n",
       "101       venezuela              310                           490.0   \n",
       "102         vietnam               70                           523.0   \n",
       "\n",
       "     people_fully_vaccinated  people_vaccinated_per_hundred  \\\n",
       "0               0.000000e+00                           0.16   \n",
       "1               2.316000e+03                           0.50   \n",
       "2               0.000000e+00                           0.00   \n",
       "3               2.303529e+07                         188.14   \n",
       "4               0.000000e+00                           4.86   \n",
       "..                       ...                            ...   \n",
       "97              1.014450e+08                        2074.69   \n",
       "98              1.824732e+09                        1171.64   \n",
       "99              2.960560e+05                         299.12   \n",
       "101             0.000000e+00                           0.09   \n",
       "102             0.000000e+00                           0.82   \n",
       "\n",
       "     total_vaccinations  total_vaccinations_per_hundred        Date     Type  \n",
       "0          6.220000e+04                            0.16  2020-03-24     Full  \n",
       "1          1.143532e+06                           39.75  2020-03-08     Full  \n",
       "2          7.503000e+04                            0.17  2020-03-24     Full  \n",
       "3          1.086167e+08                          240.34  2020-03-20     Full  \n",
       "4          9.785319e+06                           38.39  2020-03-25  Partial  \n",
       "..                  ...                             ...         ...      ...  \n",
       "97         1.509896e+09                         2224.20  2020-03-23     Full  \n",
       "98         5.748900e+09                         1718.96  2020-03-23  Partial  \n",
       "99         1.068545e+07                          307.63  2020-03-16     Full  \n",
       "101        2.657400e+04                            0.09  2020-03-16     Full  \n",
       "102        8.052260e+05                            0.82  2020-03-19     Full  \n",
       "\n",
       "[96 rows x 9 columns]"
      ]
     },
     "execution_count": 31,
     "metadata": {},
     "output_type": "execute_result"
    }
   ],
   "source": [
    "covid"
   ]
  },
  {
   "cell_type": "markdown",
   "metadata": {},
   "source": [
    "We have our final `happiness` dataset below"
   ]
  },
  {
   "cell_type": "code",
   "execution_count": 32,
   "metadata": {},
   "outputs": [
    {
     "data": {
      "text/html": [
       "<div>\n",
       "<style scoped>\n",
       "    .dataframe tbody tr th:only-of-type {\n",
       "        vertical-align: middle;\n",
       "    }\n",
       "\n",
       "    .dataframe tbody tr th {\n",
       "        vertical-align: top;\n",
       "    }\n",
       "\n",
       "    .dataframe thead th {\n",
       "        text-align: right;\n",
       "    }\n",
       "</style>\n",
       "<table border=\"1\" class=\"dataframe\">\n",
       "  <thead>\n",
       "    <tr style=\"text-align: right;\">\n",
       "      <th></th>\n",
       "      <th>index</th>\n",
       "      <th>Country</th>\n",
       "      <th>Region</th>\n",
       "      <th>Happiness Rank</th>\n",
       "      <th>Happiness Score</th>\n",
       "      <th>Economy (GDP per Capita)</th>\n",
       "      <th>Freedom</th>\n",
       "      <th>Trust (Government Corruption)</th>\n",
       "      <th>Year</th>\n",
       "    </tr>\n",
       "  </thead>\n",
       "  <tbody>\n",
       "    <tr>\n",
       "      <td>0</td>\n",
       "      <td>625</td>\n",
       "      <td>finland</td>\n",
       "      <td>Western Europe</td>\n",
       "      <td>1</td>\n",
       "      <td>7.769</td>\n",
       "      <td>1.340</td>\n",
       "      <td>0.596</td>\n",
       "      <td>0.393</td>\n",
       "      <td>2019</td>\n",
       "    </tr>\n",
       "    <tr>\n",
       "      <td>1</td>\n",
       "      <td>626</td>\n",
       "      <td>denmark</td>\n",
       "      <td>Western Europe</td>\n",
       "      <td>2</td>\n",
       "      <td>7.600</td>\n",
       "      <td>1.383</td>\n",
       "      <td>0.592</td>\n",
       "      <td>0.410</td>\n",
       "      <td>2019</td>\n",
       "    </tr>\n",
       "    <tr>\n",
       "      <td>2</td>\n",
       "      <td>627</td>\n",
       "      <td>norway</td>\n",
       "      <td>Western Europe</td>\n",
       "      <td>3</td>\n",
       "      <td>7.554</td>\n",
       "      <td>1.488</td>\n",
       "      <td>0.603</td>\n",
       "      <td>0.341</td>\n",
       "      <td>2019</td>\n",
       "    </tr>\n",
       "    <tr>\n",
       "      <td>3</td>\n",
       "      <td>628</td>\n",
       "      <td>iceland</td>\n",
       "      <td>Western Europe</td>\n",
       "      <td>4</td>\n",
       "      <td>7.494</td>\n",
       "      <td>1.380</td>\n",
       "      <td>0.591</td>\n",
       "      <td>0.118</td>\n",
       "      <td>2019</td>\n",
       "    </tr>\n",
       "    <tr>\n",
       "      <td>4</td>\n",
       "      <td>629</td>\n",
       "      <td>netherlands</td>\n",
       "      <td>Western Europe</td>\n",
       "      <td>5</td>\n",
       "      <td>7.488</td>\n",
       "      <td>1.396</td>\n",
       "      <td>0.557</td>\n",
       "      <td>0.298</td>\n",
       "      <td>2019</td>\n",
       "    </tr>\n",
       "    <tr>\n",
       "      <td>...</td>\n",
       "      <td>...</td>\n",
       "      <td>...</td>\n",
       "      <td>...</td>\n",
       "      <td>...</td>\n",
       "      <td>...</td>\n",
       "      <td>...</td>\n",
       "      <td>...</td>\n",
       "      <td>...</td>\n",
       "      <td>...</td>\n",
       "    </tr>\n",
       "    <tr>\n",
       "      <td>599</td>\n",
       "      <td>1224</td>\n",
       "      <td>botswana*</td>\n",
       "      <td>-</td>\n",
       "      <td>142</td>\n",
       "      <td>3.471</td>\n",
       "      <td>1.503</td>\n",
       "      <td>0.571</td>\n",
       "      <td>0.102</td>\n",
       "      <td>2022</td>\n",
       "    </tr>\n",
       "    <tr>\n",
       "      <td>600</td>\n",
       "      <td>1225</td>\n",
       "      <td>rwanda*</td>\n",
       "      <td>-</td>\n",
       "      <td>143</td>\n",
       "      <td>3.268</td>\n",
       "      <td>0.785</td>\n",
       "      <td>0.621</td>\n",
       "      <td>0.544</td>\n",
       "      <td>2022</td>\n",
       "    </tr>\n",
       "    <tr>\n",
       "      <td>601</td>\n",
       "      <td>1226</td>\n",
       "      <td>zimbabwe</td>\n",
       "      <td>Sub-Saharan Africa</td>\n",
       "      <td>144</td>\n",
       "      <td>2.995</td>\n",
       "      <td>0.947</td>\n",
       "      <td>0.329</td>\n",
       "      <td>0.105</td>\n",
       "      <td>2022</td>\n",
       "    </tr>\n",
       "    <tr>\n",
       "      <td>602</td>\n",
       "      <td>1227</td>\n",
       "      <td>lebanon</td>\n",
       "      <td>Middle East and Northern Africa</td>\n",
       "      <td>145</td>\n",
       "      <td>2.955</td>\n",
       "      <td>1.392</td>\n",
       "      <td>0.103</td>\n",
       "      <td>0.034</td>\n",
       "      <td>2022</td>\n",
       "    </tr>\n",
       "    <tr>\n",
       "      <td>603</td>\n",
       "      <td>1228</td>\n",
       "      <td>afghanistan</td>\n",
       "      <td>Southern Asia</td>\n",
       "      <td>146</td>\n",
       "      <td>2.404</td>\n",
       "      <td>0.758</td>\n",
       "      <td>0.000</td>\n",
       "      <td>0.005</td>\n",
       "      <td>2022</td>\n",
       "    </tr>\n",
       "  </tbody>\n",
       "</table>\n",
       "<p>604 rows × 9 columns</p>\n",
       "</div>"
      ],
      "text/plain": [
       "     index      Country                           Region  Happiness Rank  \\\n",
       "0      625      finland                   Western Europe               1   \n",
       "1      626      denmark                   Western Europe               2   \n",
       "2      627       norway                   Western Europe               3   \n",
       "3      628      iceland                   Western Europe               4   \n",
       "4      629  netherlands                   Western Europe               5   \n",
       "..     ...          ...                              ...             ...   \n",
       "599   1224    botswana*                                -             142   \n",
       "600   1225      rwanda*                                -             143   \n",
       "601   1226     zimbabwe               Sub-Saharan Africa             144   \n",
       "602   1227      lebanon  Middle East and Northern Africa             145   \n",
       "603   1228  afghanistan                    Southern Asia             146   \n",
       "\n",
       "     Happiness Score  Economy (GDP per Capita)  Freedom  \\\n",
       "0              7.769                     1.340    0.596   \n",
       "1              7.600                     1.383    0.592   \n",
       "2              7.554                     1.488    0.603   \n",
       "3              7.494                     1.380    0.591   \n",
       "4              7.488                     1.396    0.557   \n",
       "..               ...                       ...      ...   \n",
       "599            3.471                     1.503    0.571   \n",
       "600            3.268                     0.785    0.621   \n",
       "601            2.995                     0.947    0.329   \n",
       "602            2.955                     1.392    0.103   \n",
       "603            2.404                     0.758    0.000   \n",
       "\n",
       "     Trust (Government Corruption)  Year  \n",
       "0                            0.393  2019  \n",
       "1                            0.410  2019  \n",
       "2                            0.341  2019  \n",
       "3                            0.118  2019  \n",
       "4                            0.298  2019  \n",
       "..                             ...   ...  \n",
       "599                          0.102  2022  \n",
       "600                          0.544  2022  \n",
       "601                          0.105  2022  \n",
       "602                          0.034  2022  \n",
       "603                          0.005  2022  \n",
       "\n",
       "[604 rows x 9 columns]"
      ]
     },
     "execution_count": 32,
     "metadata": {},
     "output_type": "execute_result"
    }
   ],
   "source": [
    "happiness"
   ]
  },
  {
   "cell_type": "markdown",
   "metadata": {},
   "source": [
    "# Data Analysis & Results"
   ]
  },
  {
   "cell_type": "markdown",
   "metadata": {},
   "source": [
    "We'll begin our analysis by comparing `happiness` with the various variables we have in the `happiness` dataset and the `covid` dataset. Below, we will compare Lockdown Measures vs. Degrees of Freedom, Happiness vs. Lockdown Measures, Happiness vs. Country Vaccination Status, and Happiness vs. COVID-19 Tweets.\n",
    "\n",
    "However, before proceeding with the aforementioned comparisons, we want to first examine the `happiness` dataset."
   ]
  },
  {
   "cell_type": "markdown",
   "metadata": {},
   "source": [
    "### EDA of Happiness Dataset"
   ]
  },
  {
   "cell_type": "markdown",
   "metadata": {},
   "source": [
    "We want to first look at the distributions across the quantitative values of the dataset."
   ]
  },
  {
   "cell_type": "code",
   "execution_count": 33,
   "metadata": {},
   "outputs": [
    {
     "data": {
      "image/png": "[encoded data removed]",
      "text/plain": [
       "<Figure size 1008x720 with 6 Axes>"
      ]
     },
     "metadata": {
      "needs_background": "light"
     },
     "output_type": "display_data"
    }
   ],
   "source": [
    "happiness_quant = happiness[['Happiness Rank', 'Happiness Score', 'Economy (GDP per Capita)', 'Freedom', 'Trust (Government Corruption)']]\n",
    "fig, axes = plt.subplots(nrows=2, ncols=3, figsize=(14, 10))\n",
    "for i, column in enumerate(happiness_quant.columns):\n",
    "    sns.histplot(happiness_quant[column], ax=axes[i//3,i%3], kde=True, stat=\"density\", linewidth=0, color='cadetblue')\n",
    "fig.tight_layout()\n",
    "fig.suptitle('Happiness attribute distributions', fontsize=32)\n",
    "fig.subplots_adjust(top=0.9)\n",
    "plt.show()"
   ]
  },
  {
   "cell_type": "markdown",
   "metadata": {},
   "source": [
    "We can see above that the `Happiness Ranks` are pretty uniform, merely because these compile data across the years, and the numbers are all ranked integers. Next, we can see that the `Happiness Score` and `Economy` numbers are close to being normally distributed. `Happiness Score` has a slight dip, demonstrating a bimodal distribution with a slight left skew. This shows that although most countries are on the happier side, there are still a significant amount of countries who are on the other side of the mean, with a more negative happiness score.  \n",
    "\n",
    "The two quantitative variables with the most skewed data are `Freedom` and `Trust`. The `Freedom` distribution is skewed left, with a significant amount of the countries having high freedom levels. However, there are outliers on the left, demonstrating still a significant amount of countries with absolutely no freedom. Conversely, the `Trust` distribution is skewed right, with a significant amount of countries having low trust in their governments, indicating high global government corruption numbers. This demonstrates that although there are very \"free\" countries, most global citizens do not trust their governments.\n",
    "\n",
    "The relationship between `Freedom` and COVID measures is an interesting feature that we look to examine later in this notebook."
   ]
  },
  {
   "cell_type": "markdown",
   "metadata": {},
   "source": [
    "First, we want to continue exploring the `happiness` dataset and look at the correlations between the quantiative variables."
   ]
  },
  {
   "cell_type": "code",
   "execution_count": 34,
   "metadata": {},
   "outputs": [
    {
     "data": {
      "image/png": "[encoded data removed]",
      "text/plain": [
       "<Figure size 1008x720 with 2 Axes>"
      ]
     },
     "metadata": {
      "needs_background": "light"
     },
     "output_type": "display_data"
    }
   ],
   "source": [
    "fig, axes = plt.subplots(figsize=(14, 10))\n",
    "sns.heatmap(happiness_quant.corr(), annot=True, cmap='Blues')\n",
    "plt.yticks(rotation=0)\n",
    "b, t = plt.ylim()\n",
    "b += 0.5\n",
    "t -= 0.5\n",
    "plt.ylim(b, t)\n",
    "plt.title('Correlations Between Happiness Variables', fontsize=20, pad=20)\n",
    "plt.show()"
   ]
  },
  {
   "cell_type": "markdown",
   "metadata": {},
   "source": [
    "Here, we can see that there are higher correlations between `Economy` and `Happiness Score`, as well as `Happiness Score` and `Freedom`. Conversely, there's a weaker correlation between `Economy` and `Trust`. These are all relationships that we will examine further in our analysis through the intersection with other COVID statistics."
   ]
  },
  {
   "cell_type": "markdown",
   "metadata": {},
   "source": [
    "### Comparing Lockdowns and Degrees of Freedom "
   ]
  },
  {
   "cell_type": "markdown",
   "metadata": {},
   "source": [
    "The first relationship that we want to compare is country lockdowns vs. the level of freedom measured in our `Happiness` dataset. \n",
    "\n",
    "Since most lockdowns were in 2020, we wanted to constrain our data to just 2020: the start of the pandemic. "
   ]
  },
  {
   "cell_type": "code",
   "execution_count": 35,
   "metadata": {},
   "outputs": [],
   "source": [
    "# create separate datasets for different types of lockdowns\n",
    "full = covid[covid['Type'] == 'Full']\n",
    "partial = covid[covid['Type'] == 'Partial']\n",
    "year2020 = happiness[happiness['Year'] == 2020]\n",
    "\n",
    "# merge happiness values with lockdown values\n",
    "full2020 = pd.merge(year2020, full, on='Country')\n",
    "partial2020 = pd.merge(year2020, partial, on='Country')"
   ]
  },
  {
   "cell_type": "markdown",
   "metadata": {},
   "source": [
    "Now that we have segregated the full and partial lockdown countries, we can proceed with comparing the two variables."
   ]
  },
  {
   "cell_type": "code",
   "execution_count": 36,
   "metadata": {},
   "outputs": [
    {
     "data": {
      "text/plain": [
       "Text(0.5, 1.0, 'Distribution of Freedom Measures Grouped By Type of Lockdown')"
      ]
     },
     "execution_count": 36,
     "metadata": {},
     "output_type": "execute_result"
    },
    {
     "data": {
      "image/png": "[encoded data removed]",
      "text/plain": [
       "<Figure size 432x288 with 1 Axes>"
      ]
     },
     "metadata": {
      "needs_background": "light"
     },
     "output_type": "display_data"
    }
   ],
   "source": [
    "ax2 = sns.histplot(full2020['Freedom'], bins=10, color='seagreen')\n",
    "ax2 = sns.histplot(partial2020['Freedom'], bins=10, color='purple')\n",
    "ax2.legend(labels=['Full Lockdown', 'Partial Lockdown'], title='Lockdown Type')\n",
    "ax2.set_title('Distribution of Freedom Measures Grouped By Type of Lockdown')"
   ]
  },
  {
   "cell_type": "markdown",
   "metadata": {},
   "source": [
    "The data for full lockdown shows a significant negative skew, with most countries having high freedom scores. However, there are a few countries listed with very, very low freedom levels. For the partial lockdown data, the degrees of freedom are also skewed left, but appear to generally be higher than full lockdown. There are a few gaps in the data that we could explore!"
   ]
  },
  {
   "cell_type": "code",
   "execution_count": 37,
   "metadata": {},
   "outputs": [
    {
     "data": {
      "text/plain": [
       "10    croatia\n",
       "11    senegal\n",
       "13    georgia\n",
       "Name: Country, dtype: object"
      ]
     },
     "execution_count": 37,
     "metadata": {},
     "output_type": "execute_result"
    }
   ],
   "source": [
    "# see which countries have lower freedom scores amongst partial lockdowns\n",
    "partial2020.loc[partial2020['Freedom'] < 0.5, 'Country']"
   ]
  },
  {
   "cell_type": "markdown",
   "metadata": {},
   "source": [
    "From above, we can see that there are three countries— Croatia, Senegal, and Georgia— whose freedom scores are on the lowest end of partial-lockdown countries.\n",
    "\n",
    "Similar to what was previously done, it would be interesting to explore which full-lockdown countries are at the lower end of freedom scores in the graph."
   ]
  },
  {
   "cell_type": "code",
   "execution_count": 38,
   "metadata": {},
   "outputs": [
    {
     "data": {
      "text/plain": [
       "55        algeria\n",
       "74    afghanistan\n",
       "Name: Country, dtype: object"
      ]
     },
     "execution_count": 38,
     "metadata": {},
     "output_type": "execute_result"
    }
   ],
   "source": [
    "# see which countries have lower freedom scores amongst full lockdowns\n",
    "full2020.loc[full2020['Freedom'] < 0.1, 'Country']"
   ]
  },
  {
   "cell_type": "markdown",
   "metadata": {},
   "source": [
    "Here, we can see that both Algeria and Afghanistan had full lockdowns, and their freedom scores are both lower than 0.1. There is some consideration that there may be missing countries in this dataset. This may be the result of some countries not having access to Twitter, meaning those countries were removed when joining the `tweets` dataset with the rest of the `covid` datset.\n",
    "\n",
    "Before proceeding with further analysis, we want to look at the descriptive statistics of both the full and partial lockdown datasets. "
   ]
  },
  {
   "cell_type": "code",
   "execution_count": 39,
   "metadata": {},
   "outputs": [
    {
     "data": {
      "text/plain": [
       "count    75.000000\n",
       "mean      0.477278\n",
       "std       0.142164\n",
       "min       0.000000\n",
       "25%       0.400591\n",
       "50%       0.513210\n",
       "75%       0.588838\n",
       "max       0.670201\n",
       "Name: Freedom, dtype: float64"
      ]
     },
     "execution_count": 39,
     "metadata": {},
     "output_type": "execute_result"
    }
   ],
   "source": [
    "full2020['Freedom'].describe()"
   ]
  },
  {
   "cell_type": "code",
   "execution_count": 40,
   "metadata": {},
   "outputs": [
    {
     "data": {
      "text/plain": [
       "count    14.000000\n",
       "mean      0.558172\n",
       "std       0.095251\n",
       "min       0.352401\n",
       "25%       0.539429\n",
       "50%       0.571895\n",
       "75%       0.621906\n",
       "max       0.674940\n",
       "Name: Freedom, dtype: float64"
      ]
     },
     "execution_count": 40,
     "metadata": {},
     "output_type": "execute_result"
    }
   ],
   "source": [
    "partial2020['Freedom'].describe()"
   ]
  },
  {
   "cell_type": "markdown",
   "metadata": {},
   "source": [
    "We can see that the maximum values for both datasets are very close, but the minimum values are very different. This may be attributed to the significant difference in sample size, since there are 14 partial lockdown countries and 75 full lockdown countries. Overall, we cannot assume causation from the lockdown measures. However, lockdown measures do appear to align with freedom levels, with partial lockdowns showing higher freedom distributions than full lockdowns.\n",
    "\n",
    "Next, we want to proceed with comparing Happiness vs. Lockdown Measures."
   ]
  },
  {
   "cell_type": "markdown",
   "metadata": {},
   "source": [
    "### Comparing Happiness and Lockdown Measures"
   ]
  },
  {
   "cell_type": "markdown",
   "metadata": {},
   "source": [
    "Next, we were interested in comparing the severity of lockdown measures and the happiness scores of the respective countries. Similar to the previous analysis, because most lockdown measures were implemented in 2020, we want to constrain the data to just 2020. "
   ]
  },
  {
   "cell_type": "code",
   "execution_count": 41,
   "metadata": {},
   "outputs": [
    {
     "data": {
      "text/plain": [
       "Text(0.5, 1.0, 'Distribution of Happiness Scores Grouped By Type of Lockdown')"
      ]
     },
     "execution_count": 41,
     "metadata": {},
     "output_type": "execute_result"
    },
    {
     "data": {
      "image/png": "[encoded data removed]",
      "text/plain": [
       "<Figure size 432x288 with 1 Axes>"
      ]
     },
     "metadata": {
      "needs_background": "light"
     },
     "output_type": "display_data"
    }
   ],
   "source": [
    "ax = sns.histplot(full2020['Happiness Score'], bins=10, color='pink')\n",
    "ax = sns.histplot(partial2020['Happiness Score'], bins=10, color='purple')\n",
    "ax.legend(labels=['Full Lockdown', 'Partial Lockdown'], title='Lockdown Type')\n",
    "ax.set_title('Distribution of Happiness Scores Grouped By Type of Lockdown')"
   ]
  },
  {
   "cell_type": "markdown",
   "metadata": {},
   "source": [
    "From the graph above, it is evident that for partial lockdowns, we have a multimodal distribution, with a generally smaller range of happiness scores for partial lockdowns. Conversely, the range appears to be much larger for the full lockdown, with quite a few countries at the bottom of the list. It would be interesting to see which countries are at the bottom!"
   ]
  },
  {
   "cell_type": "code",
   "execution_count": 42,
   "metadata": {},
   "outputs": [
    {
     "data": {
      "text/plain": [
       "72          india\n",
       "73         rwanda\n",
       "74    afghanistan\n",
       "Name: Country, dtype: object"
      ]
     },
     "execution_count": 42,
     "metadata": {},
     "output_type": "execute_result"
    }
   ],
   "source": [
    "# full lockdown countries with the lowest happiness scores\n",
    "full2020.loc[full2020['Happiness Score'] < 4, 'Country']"
   ]
  },
  {
   "cell_type": "markdown",
   "metadata": {},
   "source": [
    "As we can see above, India, Rwanda, and Afghanistan all implemented full lockdowns and also had the lowest happiness scores of the countries that implemented full lockdowns. It is interesting to see Afghanistan at the bottom of the list for both happiness scores and freedom scores. Again, it does appear that there may be countries missing from this list.\n",
    "\n",
    "In the graph, we saw that the partial lockdowns had a much smaller range of happiness scores, while full lockdowns had larger ranges. We will explore that more by looking into the distributions of the `Happiness Scores` of each dataset."
   ]
  },
  {
   "cell_type": "code",
   "execution_count": 43,
   "metadata": {},
   "outputs": [
    {
     "data": {
      "text/plain": [
       "count    14.000000\n",
       "mean      6.013600\n",
       "std       0.824176\n",
       "min       4.672600\n",
       "25%       5.551550\n",
       "50%       6.002400\n",
       "75%       6.443025\n",
       "max       7.232100\n",
       "Name: Happiness Score, dtype: float64"
      ]
     },
     "execution_count": 43,
     "metadata": {},
     "output_type": "execute_result"
    }
   ],
   "source": [
    "# describe the partial lockdown dataset\n",
    "partial2020['Happiness Score'].describe()"
   ]
  },
  {
   "cell_type": "markdown",
   "metadata": {},
   "source": [
    "From above, we can see that just 14 countries implemented a partial lockdown, and the average happiness scores were around a 6. The data is not too skewed, as the median is also at 6. Next, we can do the same for the `full lockdown` dataset."
   ]
  },
  {
   "cell_type": "code",
   "execution_count": 44,
   "metadata": {},
   "outputs": [
    {
     "data": {
      "text/plain": [
       "count    75.000000\n",
       "mean      5.723735\n",
       "std       1.088459\n",
       "min       2.566900\n",
       "25%       4.943900\n",
       "50%       5.747500\n",
       "75%       6.403700\n",
       "max       7.808700\n",
       "Name: Happiness Score, dtype: float64"
      ]
     },
     "execution_count": 44,
     "metadata": {},
     "output_type": "execute_result"
    }
   ],
   "source": [
    "#describe the full lockdown dataset\n",
    "full2020['Happiness Score'].describe()"
   ]
  },
  {
   "cell_type": "markdown",
   "metadata": {},
   "source": [
    "Here, we can see that there is, in fact, a greater range of happiness scores. Again, this can be attributed to the significant difference in sample size for full vs. partial lockdown countries. \n",
    "\n",
    "All of this data does show us that, in general, the happiness scores of countries who underwent partial lockdowns were higher, on average, than countries who underwent full lockdowns. Of course, there are confounding variables in this, such as the fact that the lockdowns were a reaction to a global pandemic breaking out. Hence, it would be inappropriate to imply causation between lockdown measures and happiness levels."
   ]
  },
  {
   "cell_type": "markdown",
   "metadata": {},
   "source": [
    "### Comparing Happiness Scores, Freedom Scores, and Lockdown Measures"
   ]
  },
  {
   "cell_type": "markdown",
   "metadata": {},
   "source": [
    "Before we move on from analyzing the relationship between lockdown measures and freedom scores/happiness scores, we would like to compare all three of the variables together. First, we want to join all the countries' 2020 lockdown data with the `happiness` data in one dataset."
   ]
  },
  {
   "cell_type": "code",
   "execution_count": 45,
   "metadata": {},
   "outputs": [
    {
     "data": {
      "text/html": [
       "<div>\n",
       "<style scoped>\n",
       "    .dataframe tbody tr th:only-of-type {\n",
       "        vertical-align: middle;\n",
       "    }\n",
       "\n",
       "    .dataframe tbody tr th {\n",
       "        vertical-align: top;\n",
       "    }\n",
       "\n",
       "    .dataframe thead th {\n",
       "        text-align: right;\n",
       "    }\n",
       "</style>\n",
       "<table border=\"1\" class=\"dataframe\">\n",
       "  <thead>\n",
       "    <tr style=\"text-align: right;\">\n",
       "      <th></th>\n",
       "      <th>index</th>\n",
       "      <th>Country</th>\n",
       "      <th>Region</th>\n",
       "      <th>Happiness Rank</th>\n",
       "      <th>Happiness Score</th>\n",
       "      <th>Economy (GDP per Capita)</th>\n",
       "      <th>Freedom</th>\n",
       "      <th>Trust (Government Corruption)</th>\n",
       "      <th>Year</th>\n",
       "      <th>aggregate_tweets</th>\n",
       "      <th>daily_vaccinations_per_million</th>\n",
       "      <th>people_fully_vaccinated</th>\n",
       "      <th>people_vaccinated_per_hundred</th>\n",
       "      <th>total_vaccinations</th>\n",
       "      <th>total_vaccinations_per_hundred</th>\n",
       "      <th>Date</th>\n",
       "      <th>Type</th>\n",
       "    </tr>\n",
       "  </thead>\n",
       "  <tbody>\n",
       "    <tr>\n",
       "      <td>0</td>\n",
       "      <td>781</td>\n",
       "      <td>finland</td>\n",
       "      <td>Western Europe</td>\n",
       "      <td>1</td>\n",
       "      <td>7.8087</td>\n",
       "      <td>1.285190</td>\n",
       "      <td>0.662317</td>\n",
       "      <td>0.477857</td>\n",
       "      <td>2020</td>\n",
       "      <td>32</td>\n",
       "      <td>178591.0</td>\n",
       "      <td>4292022.0</td>\n",
       "      <td>493.16</td>\n",
       "      <td>32119724.0</td>\n",
       "      <td>579.71</td>\n",
       "      <td>2020-03-27</td>\n",
       "      <td>Full</td>\n",
       "    </tr>\n",
       "    <tr>\n",
       "      <td>1</td>\n",
       "      <td>782</td>\n",
       "      <td>denmark</td>\n",
       "      <td>Western Europe</td>\n",
       "      <td>2</td>\n",
       "      <td>7.6456</td>\n",
       "      <td>1.326949</td>\n",
       "      <td>0.665040</td>\n",
       "      <td>0.495260</td>\n",
       "      <td>2020</td>\n",
       "      <td>27</td>\n",
       "      <td>192354.0</td>\n",
       "      <td>14328571.0</td>\n",
       "      <td>553.37</td>\n",
       "      <td>46383637.0</td>\n",
       "      <td>800.81</td>\n",
       "      <td>2020-03-11</td>\n",
       "      <td>Full</td>\n",
       "    </tr>\n",
       "    <tr>\n",
       "      <td>2</td>\n",
       "      <td>783</td>\n",
       "      <td>switzerland</td>\n",
       "      <td>Western Europe</td>\n",
       "      <td>3</td>\n",
       "      <td>7.5599</td>\n",
       "      <td>1.390774</td>\n",
       "      <td>0.628954</td>\n",
       "      <td>0.407946</td>\n",
       "      <td>2020</td>\n",
       "      <td>98</td>\n",
       "      <td>147153.0</td>\n",
       "      <td>15587887.0</td>\n",
       "      <td>348.89</td>\n",
       "      <td>53263549.0</td>\n",
       "      <td>615.48</td>\n",
       "      <td>2020-03-18</td>\n",
       "      <td>Full</td>\n",
       "    </tr>\n",
       "    <tr>\n",
       "      <td>3</td>\n",
       "      <td>785</td>\n",
       "      <td>norway</td>\n",
       "      <td>Western Europe</td>\n",
       "      <td>5</td>\n",
       "      <td>7.4880</td>\n",
       "      <td>1.424207</td>\n",
       "      <td>0.670201</td>\n",
       "      <td>0.434101</td>\n",
       "      <td>2020</td>\n",
       "      <td>21</td>\n",
       "      <td>170265.0</td>\n",
       "      <td>10296620.0</td>\n",
       "      <td>445.47</td>\n",
       "      <td>34447121.0</td>\n",
       "      <td>635.39</td>\n",
       "      <td>2020-03-12</td>\n",
       "      <td>Full</td>\n",
       "    </tr>\n",
       "    <tr>\n",
       "      <td>4</td>\n",
       "      <td>786</td>\n",
       "      <td>netherlands</td>\n",
       "      <td>Western Europe</td>\n",
       "      <td>6</td>\n",
       "      <td>7.4489</td>\n",
       "      <td>1.338946</td>\n",
       "      <td>0.613626</td>\n",
       "      <td>0.368570</td>\n",
       "      <td>2020</td>\n",
       "      <td>244</td>\n",
       "      <td>129040.0</td>\n",
       "      <td>2987541.0</td>\n",
       "      <td>54.09</td>\n",
       "      <td>12256285.0</td>\n",
       "      <td>71.52</td>\n",
       "      <td>2020-03-24</td>\n",
       "      <td>Full</td>\n",
       "    </tr>\n",
       "  </tbody>\n",
       "</table>\n",
       "</div>"
      ],
      "text/plain": [
       "   index      Country          Region  Happiness Rank  Happiness Score  \\\n",
       "0    781      finland  Western Europe               1           7.8087   \n",
       "1    782      denmark  Western Europe               2           7.6456   \n",
       "2    783  switzerland  Western Europe               3           7.5599   \n",
       "3    785       norway  Western Europe               5           7.4880   \n",
       "4    786  netherlands  Western Europe               6           7.4489   \n",
       "\n",
       "   Economy (GDP per Capita)   Freedom  Trust (Government Corruption)  Year  \\\n",
       "0                  1.285190  0.662317                       0.477857  2020   \n",
       "1                  1.326949  0.665040                       0.495260  2020   \n",
       "2                  1.390774  0.628954                       0.407946  2020   \n",
       "3                  1.424207  0.670201                       0.434101  2020   \n",
       "4                  1.338946  0.613626                       0.368570  2020   \n",
       "\n",
       "  aggregate_tweets  daily_vaccinations_per_million  people_fully_vaccinated  \\\n",
       "0               32                        178591.0                4292022.0   \n",
       "1               27                        192354.0               14328571.0   \n",
       "2               98                        147153.0               15587887.0   \n",
       "3               21                        170265.0               10296620.0   \n",
       "4              244                        129040.0                2987541.0   \n",
       "\n",
       "   people_vaccinated_per_hundred  total_vaccinations  \\\n",
       "0                         493.16          32119724.0   \n",
       "1                         553.37          46383637.0   \n",
       "2                         348.89          53263549.0   \n",
       "3                         445.47          34447121.0   \n",
       "4                          54.09          12256285.0   \n",
       "\n",
       "   total_vaccinations_per_hundred        Date  Type  \n",
       "0                          579.71  2020-03-27  Full  \n",
       "1                          800.81  2020-03-11  Full  \n",
       "2                          615.48  2020-03-18  Full  \n",
       "3                          635.39  2020-03-12  Full  \n",
       "4                           71.52  2020-03-24  Full  "
      ]
     },
     "execution_count": 45,
     "metadata": {},
     "output_type": "execute_result"
    }
   ],
   "source": [
    "# merge previous year2020 dataframe with covid dataframe\n",
    "countries_2020 = pd.merge(year2020, covid, on='Country')\n",
    "countries_2020.head()"
   ]
  },
  {
   "cell_type": "markdown",
   "metadata": {},
   "source": [
    "Now that we have our complete 2020 happiness and covid dataframe, we can compare the three data values analyzed in the previous two sections."
   ]
  },
  {
   "cell_type": "code",
   "execution_count": 46,
   "metadata": {},
   "outputs": [
    {
     "data": {
      "text/plain": [
       "Text(0.5, 1.0, 'Comparing Happiness Scores and Freedom Scores')"
      ]
     },
     "execution_count": 46,
     "metadata": {},
     "output_type": "execute_result"
    },
    {
     "data": {
      "image/png": "[encoded data removed]",
      "text/plain": [
       "<Figure size 432x288 with 1 Axes>"
      ]
     },
     "metadata": {
      "needs_background": "light"
     },
     "output_type": "display_data"
    }
   ],
   "source": [
    "ax = sns.scatterplot(x=countries_2020['Freedom'], y=countries_2020['Happiness Score'], hue=countries_2020['Type'], palette='Paired')\n",
    "\n",
    "# scale the y-axis to log scale\n",
    "ax.set(yscale='log')\n",
    "ax.set_title('Comparing Happiness Scores and Freedom Scores')"
   ]
  },
  {
   "cell_type": "markdown",
   "metadata": {},
   "source": [
    "The scatterplot above shows a slight positive relationship between `Happiness Score` and `Freedom`, and most partial-lockdown countries are found on the top right corner. Interestingly, there is one extreme value at the very corner."
   ]
  },
  {
   "cell_type": "code",
   "execution_count": 47,
   "metadata": {},
   "outputs": [
    {
     "data": {
      "text/plain": [
       "88    afghanistan\n",
       "Name: Country, dtype: object"
      ]
     },
     "execution_count": 47,
     "metadata": {},
     "output_type": "execute_result"
    }
   ],
   "source": [
    "# find the extreme value\n",
    "countries_2020.loc[countries_2020['Freedom'] == 0, 'Country']"
   ]
  },
  {
   "cell_type": "markdown",
   "metadata": {},
   "source": [
    "Here, we can see that as similar to the previous two sections, Afghanistan is on the bottom of the list in terms of Freedom and Happiness Score. \n",
    "\n",
    "Seeing the very lackluster relationship between the two variables in the scatterplot, we want to further analyze the relationship between Freedom and Happiness Score."
   ]
  },
  {
   "cell_type": "code",
   "execution_count": 48,
   "metadata": {},
   "outputs": [
    {
     "name": "stdout",
     "output_type": "stream",
     "text": [
      "                             OLS Regression Results                             \n",
      "================================================================================\n",
      "Dep. Variable:     Q(\"Happiness Score\")   R-squared:                       0.303\n",
      "Model:                              OLS   Adj. R-squared:                  0.295\n",
      "Method:                   Least Squares   F-statistic:                     37.83\n",
      "Date:                  Fri, 03 Jun 2022   Prob (F-statistic):           2.28e-08\n",
      "Time:                          03:04:43   Log-Likelihood:                -114.27\n",
      "No. Observations:                    89   AIC:                             232.5\n",
      "Df Residuals:                        87   BIC:                             237.5\n",
      "Df Model:                             1                                         \n",
      "Covariance Type:              nonrobust                                         \n",
      "==============================================================================\n",
      "                 coef    std err          t      P>|t|      [0.025      0.975]\n",
      "------------------------------------------------------------------------------\n",
      "Intercept      3.7209      0.346     10.756      0.000       3.033       4.409\n",
      "Freedom        4.1804      0.680      6.151      0.000       2.829       5.531\n",
      "==============================================================================\n",
      "Omnibus:                        8.393   Durbin-Watson:                   0.487\n",
      "Prob(Omnibus):                  0.015   Jarque-Bera (JB):                7.974\n",
      "Skew:                          -0.665   Prob(JB):                       0.0186\n",
      "Kurtosis:                       3.616   Cond. No.                         9.02\n",
      "==============================================================================\n",
      "\n",
      "Warnings:\n",
      "[1] Standard Errors assume that the covariance matrix of the errors is correctly specified.\n"
     ]
    }
   ],
   "source": [
    "# ordinary least squares model\n",
    "outcome, predictors = patsy.dmatrices('Q(\"Happiness Score\") ~ Freedom', countries_2020)\n",
    "freedom_model = sm.OLS(outcome, predictors)\n",
    "results = freedom_model.fit()\n",
    "print(results.summary())"
   ]
  },
  {
   "cell_type": "markdown",
   "metadata": {},
   "source": [
    "Based on the results from this OLS regression, the relationship between `Happiness Scores` and `Freedom` is positive, but very weak. Our p-value is estimated to be 0, which means that the differences between the groups are significant and we can reject the null hypothesis. \n",
    "\n",
    "Now, we want to move on to comparing happiness score vs. country vaccination status."
   ]
  },
  {
   "cell_type": "markdown",
   "metadata": {},
   "source": [
    "### Comparing Happiness and Country Vaccination Status "
   ]
  },
  {
   "cell_type": "markdown",
   "metadata": {},
   "source": [
    "To compare happiness and country vaccination status, we first look at the countries who have the largest and smallest total number of vaccinations. To do this, we used the `vaccinations` dataset and used `total_vaccinations` as our variable. Then we narrowed in on the top 10 and bottom 10 countries."
   ]
  },
  {
   "cell_type": "code",
   "execution_count": 49,
   "metadata": {},
   "outputs": [
    {
     "data": {
      "text/plain": [
       "Text(0.5, 0, 'Total Number of Vaccinations')"
      ]
     },
     "execution_count": 49,
     "metadata": {},
     "output_type": "execute_result"
    },
    {
     "data": {
      "image/png": "[encoded data removed]",
      "text/plain": [
       "<Figure size 432x288 with 1 Axes>"
      ]
     },
     "metadata": {
      "needs_background": "light"
     },
     "output_type": "display_data"
    }
   ],
   "source": [
    "covid = covid.sort_values(['total_vaccinations'], ascending = False)\n",
    "sns.set_palette(\"YlGnBu\")\n",
    "ax = sns.barplot(y = covid['Country'].head(10),x = covid['total_vaccinations'].head(10))\n",
    "\n",
    "ax.set_title('Top 10 Counties with Total Number of Vaccinations')\n",
    "ax.set_xlabel('Total Number of Vaccinations')"
   ]
  },
  {
   "cell_type": "markdown",
   "metadata": {},
   "source": [
    "From this visualization, we can see that the `United States` has a much larger number of total vaccinations compared to other countries. \n",
    "\n",
    "Additionally the x-axis uses a scientific notation scale with a standard value of `1e9`. This is because these countries have vaccination totals in the millions."
   ]
  },
  {
   "cell_type": "code",
   "execution_count": 50,
   "metadata": {},
   "outputs": [
    {
     "data": {
      "text/plain": [
       "Text(0.5, 0, 'Total Number of Vaccinations')"
      ]
     },
     "execution_count": 50,
     "metadata": {},
     "output_type": "execute_result"
    },
    {
     "data": {
      "image/png": "[encoded data removed]",
      "text/plain": [
       "<Figure size 432x288 with 1 Axes>"
      ]
     },
     "metadata": {
      "needs_background": "light"
     },
     "output_type": "display_data"
    }
   ],
   "source": [
    "covid = covid.sort_values(['total_vaccinations'], ascending = True)\n",
    "sns.set_palette(\"YlGnBu\")\n",
    "ax = sns.barplot(y = covid['Country'].head(10),x = covid['total_vaccinations'].head(10))\n",
    "\n",
    "ax.set_title('Bottom 10 Counties with Total Number of Vaccinations')\n",
    "ax.set_xlabel('Total Number of Vaccinations')"
   ]
  },
  {
   "cell_type": "markdown",
   "metadata": {},
   "source": [
    "Next, we utilized a scatterplot to compare the `total number of vaccinations` a country has to their `Happiness Score`.  "
   ]
  },
  {
   "cell_type": "code",
   "execution_count": 51,
   "metadata": {},
   "outputs": [],
   "source": [
    "#Merging our vaccination data (covid dataframe) with happiness data from the year 2020\n",
    "vaccine2020 = pd.merge(year2020, covid, on='Country')"
   ]
  },
  {
   "cell_type": "code",
   "execution_count": 52,
   "metadata": {},
   "outputs": [
    {
     "data": {
      "image/png": "[encoded data removed]",
      "text/plain": [
       "<Figure size 432x288 with 1 Axes>"
      ]
     },
     "metadata": {
      "needs_background": "light"
     },
     "output_type": "display_data"
    }
   ],
   "source": [
    "ax1 = vaccine2020.plot.scatter(x = 'total_vaccinations',\n",
    "                            y = 'Happiness Score', \n",
    "                            color = 'indigo',\n",
    "                            title='Relationship Between Vaccinations and Happiness')"
   ]
  },
  {
   "cell_type": "markdown",
   "metadata": {},
   "source": [
    "From this scatterplot, we can see that countries with a significantly larger amount `total vaccinations` don't necessarily have the highest `Happiness Score`. However, this visualization also shows us that many countries have less than `1le9` in terms of their amount of total vaccinations.\n",
    "\n",
    "Additionally the x-axis uses a scientific notation scale with a standard value of `1e9`. This is because these countries have vaccination totals in the millions.\n",
    "\n",
    "To get a better visualization of these other countries, and to resolve outlier issues that we have from the above scatterplot, we used a linear transformation."
   ]
  },
  {
   "cell_type": "code",
   "execution_count": 53,
   "metadata": {},
   "outputs": [
    {
     "data": {
      "text/plain": [
       "Text(0.5, 1, 'Relationship between Total Vaccinations and \\n Happiness Scores of Countries in 2020')"
      ]
     },
     "execution_count": 53,
     "metadata": {},
     "output_type": "execute_result"
    },
    {
     "data": {
      "image/png": "[encoded data removed]",
      "text/plain": [
       "<Figure size 468x360 with 1 Axes>"
      ]
     },
     "metadata": {
      "needs_background": "light"
     },
     "output_type": "display_data"
    }
   ],
   "source": [
    "# log transforming vaccination data\n",
    "vaccine2020['vaccine2020_log10'] = np.log10(vaccine2020['total_vaccinations'] + 0.1)\n",
    "\n",
    "sns.lmplot(\n",
    "    x = 'vaccine2020_log10',\n",
    "    y = 'Happiness Score',\n",
    "    data = vaccine2020,\n",
    "    aspect = 1.3,\n",
    "    scatter_kws={\"color\": \"firebrick\"},\n",
    "    line_kws = {'color': 'seagreen'}\n",
    ")\n",
    "\n",
    "ax = plt.gca()\n",
    "ax \n",
    "ax.set_title('Relationship between Total Vaccinations and \\n Happiness Scores of Countries in 2020')"
   ]
  },
  {
   "cell_type": "markdown",
   "metadata": {},
   "source": [
    "Based on this visualization, we can see that there is a slight positive relationship between `Happiness Scores` and the `Total Number of Vaccinations` a country has. To further look into this relationship, we used an OLS Regression."
   ]
  },
  {
   "cell_type": "code",
   "execution_count": 54,
   "metadata": {},
   "outputs": [
    {
     "name": "stdout",
     "output_type": "stream",
     "text": [
      "                             OLS Regression Results                             \n",
      "================================================================================\n",
      "Dep. Variable:     Q(\"Happiness Score\")   R-squared:                       0.171\n",
      "Model:                              OLS   Adj. R-squared:                  0.162\n",
      "Method:                   Least Squares   F-statistic:                     17.98\n",
      "Date:                  Fri, 03 Jun 2022   Prob (F-statistic):           5.55e-05\n",
      "Time:                          03:04:45   Log-Likelihood:                -121.98\n",
      "No. Observations:                    89   AIC:                             248.0\n",
      "Df Residuals:                        87   BIC:                             252.9\n",
      "Df Model:                             1                                         \n",
      "Covariance Type:              nonrobust                                         \n",
      "=====================================================================================\n",
      "                        coef    std err          t      P>|t|      [0.025      0.975]\n",
      "-------------------------------------------------------------------------------------\n",
      "Intercept             3.7164      0.495      7.511      0.000       2.733       4.700\n",
      "vaccine2020_log10     0.3006      0.071      4.240      0.000       0.160       0.441\n",
      "==============================================================================\n",
      "Omnibus:                        3.456   Durbin-Watson:                   0.358\n",
      "Prob(Omnibus):                  0.178   Jarque-Bera (JB):                2.797\n",
      "Skew:                          -0.314   Prob(JB):                        0.247\n",
      "Kurtosis:                       3.600   Cond. No.                         34.5\n",
      "==============================================================================\n",
      "\n",
      "Warnings:\n",
      "[1] Standard Errors assume that the covariance matrix of the errors is correctly specified.\n"
     ]
    }
   ],
   "source": [
    "# ordinary least squares model\n",
    "outcome, predictors = patsy.dmatrices('Q(\"Happiness Score\") ~ vaccine2020_log10', vaccine2020)\n",
    "vaccine_model = sm.OLS(outcome, predictors)\n",
    "results = vaccine_model.fit()\n",
    "print(results.summary())"
   ]
  },
  {
   "cell_type": "markdown",
   "metadata": {},
   "source": [
    "Based on our chart, the relationship between `Happiness Scores` and `Total Number of Vaccinations` is positive but somewhat weak. Our p-value is estimated to be around zero which helps us understand that our data has a slim possibility of being created by chance alone. However, our R-squared value is `0.171` which means our model accounts for about 17.1% of variation in our data. This is a very small percentage which means more research and analyis needs to be done to truly compare the relationship between happiness and the total number of vaccinations in countries.  "
   ]
  },
  {
   "cell_type": "markdown",
   "metadata": {},
   "source": [
    "### Comparing Happiness and COVID-19 Tweets"
   ]
  },
  {
   "cell_type": "markdown",
   "metadata": {},
   "source": [
    "We want to start off by looking at the data from the `tweets` dataframe. We have just one quantitative variable: `aggregate_tweets`, which we will visualize below."
   ]
  },
  {
   "cell_type": "code",
   "execution_count": 55,
   "metadata": {},
   "outputs": [
    {
     "data": {
      "text/plain": [
       "Text(0.5, 0, 'Number of Aggregate Tweets')"
      ]
     },
     "execution_count": 55,
     "metadata": {},
     "output_type": "execute_result"
    },
    {
     "data": {
      "image/png": "[encoded data removed]",
      "text/plain": [
       "<Figure size 432x288 with 1 Axes>"
      ]
     },
     "metadata": {
      "needs_background": "light"
     },
     "output_type": "display_data"
    }
   ],
   "source": [
    "covid = covid.sort_values(['aggregate_tweets'], ascending=False)\n",
    "sns.set_palette(\"Greens_d\")\n",
    "ax = sns.barplot(y=covid['Country'].head(10), x=covid['aggregate_tweets'].head(10))\n",
    "\n",
    "ax.set_title('Top 10 Counties with Most Aggregate Tweets')\n",
    "ax.set_xlabel('Number of Aggregate Tweets')"
   ]
  },
  {
   "cell_type": "markdown",
   "metadata": {},
   "source": [
    "As expected, the United States, India, and China lead the pack in terms of aggregate tweets related to COVID. This is reasonable because they have the top three populations in the world (circa 2020).\n",
    "\n",
    "We would like to first examine the relationship between happiness and number of COVID tweets."
   ]
  },
  {
   "cell_type": "code",
   "execution_count": 56,
   "metadata": {},
   "outputs": [
    {
     "data": {
      "text/plain": [
       "Text(0.5, 1, 'Relationship between COVID Tweets and Happiness Scores in 2020')"
      ]
     },
     "execution_count": 56,
     "metadata": {},
     "output_type": "execute_result"
    },
    {
     "data": {
      "image/png": "[encoded data removed]",
      "text/plain": [
       "<Figure size 576x360 with 1 Axes>"
      ]
     },
     "metadata": {
      "needs_background": "light"
     },
     "output_type": "display_data"
    }
   ],
   "source": [
    "# merge covid dataframe with tweets + happiness dataframe for 2020\n",
    "year2020 = happiness[happiness['Year'] == 2020]\n",
    "happiness2020 = pd.merge(year2020, covid, on='Country')\n",
    "\n",
    "happiness2020['aggregate_tweets'] = happiness2020['aggregate_tweets'].astype(float)\n",
    "\n",
    "sns.lmplot(\n",
    "    x = 'aggregate_tweets',\n",
    "    y = 'Happiness Score',\n",
    "    data = happiness2020,\n",
    "    aspect = 1.6,\n",
    "    scatter_kws={\"color\": \"firebrick\"},\n",
    "    line_kws={\"color\": \"seagreen\"}\n",
    ")\n",
    "ax = plt.gca()\n",
    "ax.set_title('Relationship between COVID Tweets and Happiness Scores in 2020')\n"
   ]
  },
  {
   "cell_type": "markdown",
   "metadata": {},
   "source": [
    "What we can see here is that there is a very, very slight positive relationship, with a few outliers. Most of our data, however, is skewed around zero tweets. Hence, we will use a linear transformation to prevent the outliers from driving our relationship."
   ]
  },
  {
   "cell_type": "code",
   "execution_count": 57,
   "metadata": {},
   "outputs": [
    {
     "data": {
      "text/plain": [
       "Text(0.5, 1, 'Relationship between transformed COVID Tweets and Happiness Scores in 2020')"
      ]
     },
     "execution_count": 57,
     "metadata": {},
     "output_type": "execute_result"
    },
    {
     "data": {
      "image/png": "[encoded data removed]",
      "text/plain": [
       "<Figure size 576x360 with 1 Axes>"
      ]
     },
     "metadata": {
      "needs_background": "light"
     },
     "output_type": "display_data"
    }
   ],
   "source": [
    "# log transform\n",
    "happiness2020['tweets_log10'] = np.log10(happiness2020['aggregate_tweets'])\n",
    "\n",
    "# visualize the relationship between the log10 tweets and Happiness Scores\n",
    "sns.lmplot(\n",
    "    x = 'tweets_log10',\n",
    "    y = 'Happiness Score',\n",
    "    data = happiness2020,\n",
    "    aspect = 1.6,\n",
    "    scatter_kws={\"color\": \"firebrick\"},\n",
    "    line_kws={\"color\": \"seagreen\"}\n",
    ")\n",
    "ax = plt.gca()\n",
    "ax.set_title('Relationship between transformed COVID Tweets and Happiness Scores in 2020')"
   ]
  },
  {
   "cell_type": "code",
   "execution_count": 58,
   "metadata": {},
   "outputs": [
    {
     "name": "stdout",
     "output_type": "stream",
     "text": [
      "                             OLS Regression Results                             \n",
      "================================================================================\n",
      "Dep. Variable:     Q(\"Happiness Score\")   R-squared:                       0.022\n",
      "Model:                              OLS   Adj. R-squared:                  0.011\n",
      "Method:                   Least Squares   F-statistic:                     1.946\n",
      "Date:                  Fri, 03 Jun 2022   Prob (F-statistic):              0.167\n",
      "Time:                          03:04:47   Log-Likelihood:                -129.36\n",
      "No. Observations:                    89   AIC:                             262.7\n",
      "Df Residuals:                        87   BIC:                             267.7\n",
      "Df Model:                             1                                         \n",
      "Covariance Type:              nonrobust                                         \n",
      "================================================================================\n",
      "                   coef    std err          t      P>|t|      [0.025      0.975]\n",
      "--------------------------------------------------------------------------------\n",
      "Intercept        5.5149      0.214     25.830      0.000       5.091       5.939\n",
      "tweets_log10     0.1471      0.105      1.395      0.167      -0.062       0.357\n",
      "==============================================================================\n",
      "Omnibus:                        1.431   Durbin-Watson:                   0.056\n",
      "Prob(Omnibus):                  0.489   Jarque-Bera (JB):                1.262\n",
      "Skew:                          -0.290   Prob(JB):                        0.532\n",
      "Kurtosis:                       2.940   Cond. No.                         4.63\n",
      "==============================================================================\n",
      "\n",
      "Warnings:\n",
      "[1] Standard Errors assume that the covariance matrix of the errors is correctly specified.\n"
     ]
    }
   ],
   "source": [
    "# ordinary least squares model\n",
    "tweets_outcome, tweets_predictors = patsy.dmatrices('Q(\"Happiness Score\") ~ tweets_log10', happiness2020)\n",
    "tweets_model = sm.OLS(tweets_outcome, tweets_predictors)\n",
    "tweets_results = tweets_model.fit()\n",
    "print(tweets_results.summary())"
   ]
  },
  {
   "cell_type": "markdown",
   "metadata": {},
   "source": [
    "In the graph, we can see a very, very weak relationship between number of COVID-related tweets and the happiness scores of the residents. The OLS Regression results show that there is a very small effect on happiness score per every increase in tweets based on our $\\beta_1$ estimate of `0.02321`, or, `0.0002321` considering the log transformation. This fails to take into account counfounding variables such as the sentiment of the tweets. Or, if the tweets were positive or negative. Therefore, further explorations must be conducted in the scope of the tweets and the happiness scores per global country.\n",
    "\n",
    "Next, we want to proceed with conducting sentiment analysis on the `tweets` dataset to further allow for better comparison between happiness and the incidence of covid-related tweets."
   ]
  },
  {
   "cell_type": "markdown",
   "metadata": {},
   "source": [
    "### Sentiment Analysis of Tweets"
   ]
  },
  {
   "cell_type": "markdown",
   "metadata": {},
   "source": [
    "Before indulging in subsequent exploratory data analysis, we would like to conduct a twitter sentiment analysis to evaluate the sentiment of the tweets. However, since our final `covid` dataset only includes the value counts for the tweets, we will resort to using the original `tweets` dataset that included the text of the tweets.\n",
    "\n",
    "First, we want to check on the `tweets` dataframe."
   ]
  },
  {
   "cell_type": "code",
   "execution_count": 59,
   "metadata": {},
   "outputs": [
    {
     "data": {
      "text/html": [
       "<div>\n",
       "<style scoped>\n",
       "    .dataframe tbody tr th:only-of-type {\n",
       "        vertical-align: middle;\n",
       "    }\n",
       "\n",
       "    .dataframe tbody tr th {\n",
       "        vertical-align: top;\n",
       "    }\n",
       "\n",
       "    .dataframe thead th {\n",
       "        text-align: right;\n",
       "    }\n",
       "</style>\n",
       "<table border=\"1\" class=\"dataframe\">\n",
       "  <thead>\n",
       "    <tr style=\"text-align: right;\">\n",
       "      <th></th>\n",
       "      <th>user_name</th>\n",
       "      <th>location</th>\n",
       "      <th>date</th>\n",
       "      <th>text</th>\n",
       "    </tr>\n",
       "  </thead>\n",
       "  <tbody>\n",
       "    <tr>\n",
       "      <td>0</td>\n",
       "      <td>Tom Basile 🇺🇸</td>\n",
       "      <td>united states</td>\n",
       "      <td>2020-07-25 12:27:17</td>\n",
       "      <td>Hey @Yankees @YankeesPR and @MLB - wouldn't it...</td>\n",
       "    </tr>\n",
       "    <tr>\n",
       "      <td>1</td>\n",
       "      <td>Time4fisticuffs</td>\n",
       "      <td>china</td>\n",
       "      <td>2020-07-25 12:27:14</td>\n",
       "      <td>@diane3443 @wdunlap @realDonaldTrump Trump nev...</td>\n",
       "    </tr>\n",
       "    <tr>\n",
       "      <td>2</td>\n",
       "      <td>hr bartender</td>\n",
       "      <td>united states</td>\n",
       "      <td>2020-07-25 12:27:03</td>\n",
       "      <td>How #COVID19 Will Change Work in General (and ...</td>\n",
       "    </tr>\n",
       "    <tr>\n",
       "      <td>3</td>\n",
       "      <td>Creativegms</td>\n",
       "      <td>china</td>\n",
       "      <td>2020-07-25 12:26:50</td>\n",
       "      <td>Order here: https://t.co/4NUrGX6EmA\\n\\n#logo #...</td>\n",
       "    </tr>\n",
       "    <tr>\n",
       "      <td>4</td>\n",
       "      <td>DailyaddaaNews</td>\n",
       "      <td>india</td>\n",
       "      <td>2020-07-25 12:26:46</td>\n",
       "      <td>Rajasthan Government today started a Plasma Ba...</td>\n",
       "    </tr>\n",
       "  </tbody>\n",
       "</table>\n",
       "</div>"
      ],
      "text/plain": [
       "         user_name       location                 date  \\\n",
       "0    Tom Basile 🇺🇸  united states  2020-07-25 12:27:17   \n",
       "1  Time4fisticuffs          china  2020-07-25 12:27:14   \n",
       "2     hr bartender  united states  2020-07-25 12:27:03   \n",
       "3      Creativegms          china  2020-07-25 12:26:50   \n",
       "4   DailyaddaaNews          india  2020-07-25 12:26:46   \n",
       "\n",
       "                                                text  \n",
       "0  Hey @Yankees @YankeesPR and @MLB - wouldn't it...  \n",
       "1  @diane3443 @wdunlap @realDonaldTrump Trump nev...  \n",
       "2  How #COVID19 Will Change Work in General (and ...  \n",
       "3  Order here: https://t.co/4NUrGX6EmA\\n\\n#logo #...  \n",
       "4  Rajasthan Government today started a Plasma Ba...  "
      ]
     },
     "execution_count": 59,
     "metadata": {},
     "output_type": "execute_result"
    }
   ],
   "source": [
    "tweets.head()"
   ]
  },
  {
   "cell_type": "markdown",
   "metadata": {},
   "source": [
    "Next, we want to begin with preprocessing the text. We will do it in two parts. First, we want to remove punctuation, links, and words with numbers. For uniformity, we will lowercase all the words in the text."
   ]
  },
  {
   "cell_type": "code",
   "execution_count": 60,
   "metadata": {},
   "outputs": [],
   "source": [
    "def clean_text(text):\n",
    "    text = text.lower()\n",
    "    text = re.sub('https?://\\S+|www\\.\\S+', ' ', text) #remove urls\n",
    "    text = re.sub('\\[.*?\\]', '', text)\n",
    "    text = re.sub('<.*?>+', '', text)\n",
    "    text = re.sub('\\n', '', text)\n",
    "    text = re.sub('\\w*\\d\\w*', '', text) #remove words containing numbers\n",
    "    text = re.sub('[%s]' % re.escape(string.punctuation), '', text) #remove punctuation from strings\n",
    "    return text"
   ]
  },
  {
   "cell_type": "code",
   "execution_count": 61,
   "metadata": {},
   "outputs": [
    {
     "data": {
      "text/plain": [
       "0         hey yankees yankeespr and mlb  wouldnt it have...\n",
       "1          wdunlap realdonaldtrump trump never once clai...\n",
       "2         how  will change work in general and recruitin...\n",
       "3         order here  logo graphicdesigner logodesign lo...\n",
       "4         rajasthan government today started a plasma ba...\n",
       "                                ...                        \n",
       "101193    wallkill school nurse adds covid monitoring to...\n",
       "101194    wallkill school nurse adds covid monitoring to...\n",
       "101195    thanks iamohmai for nominating me for the who ...\n",
       "101196                          the year of insanity lol   \n",
       "101197    i stop when i see a stopsabcnewsdailysunsaenca...\n",
       "Name: text, Length: 101198, dtype: object"
      ]
     },
     "execution_count": 61,
     "metadata": {},
     "output_type": "execute_result"
    }
   ],
   "source": [
    "tweets['text'] = tweets['text'].apply(lambda x: clean_text(x))\n",
    "tweets['text']"
   ]
  },
  {
   "cell_type": "markdown",
   "metadata": {},
   "source": [
    "Now that we have cleaned up the text a bit, we want to move on to cleaning up the various types of emojis that may appear in a tweet. "
   ]
  },
  {
   "cell_type": "code",
   "execution_count": 62,
   "metadata": {},
   "outputs": [],
   "source": [
    "# remove emojis \n",
    "# source: https://stackoverflow.com/questions/33404752/removing-emojis-from-a-string-in-python\n",
    "\n",
    "def remove_emoji(text):\n",
    "    emoji_pattern = re.compile(\"[\"\n",
    "            u\"\\U0001F600-\\U0001F64F\"  # emoticons\n",
    "            u\"\\U0001F300-\\U0001F5FF\"  # symbols & pictographs\n",
    "            u\"\\U0001F680-\\U0001F6FF\"  # transport & map symbols\n",
    "            u\"\\U0001F1E0-\\U0001F1FF\"  # flags (iOS)\n",
    "                            \"]+\", flags=re.UNICODE)\n",
    "    return emoji_pattern.sub(r'', text)"
   ]
  },
  {
   "cell_type": "code",
   "execution_count": 63,
   "metadata": {},
   "outputs": [
    {
     "data": {
      "text/plain": [
       "0         hey yankees yankeespr and mlb  wouldnt it have...\n",
       "1          wdunlap realdonaldtrump trump never once clai...\n",
       "2         how  will change work in general and recruitin...\n",
       "3         order here  logo graphicdesigner logodesign lo...\n",
       "4         rajasthan government today started a plasma ba...\n",
       "                                ...                        \n",
       "101193    wallkill school nurse adds covid monitoring to...\n",
       "101194    wallkill school nurse adds covid monitoring to...\n",
       "101195    thanks iamohmai for nominating me for the who ...\n",
       "101196                          the year of insanity lol   \n",
       "101197    i stop when i see a stopsabcnewsdailysunsaenca...\n",
       "Name: text, Length: 101198, dtype: object"
      ]
     },
     "execution_count": 63,
     "metadata": {},
     "output_type": "execute_result"
    }
   ],
   "source": [
    "tweets['text'] = tweets['text'].apply(lambda x: remove_emoji(x))\n",
    "tweets['text']"
   ]
  },
  {
   "cell_type": "markdown",
   "metadata": {},
   "source": [
    "Our final process in the preprocessing stage of the sentiment analysis is to remove stop words. Stop words are the words that are most abundant in our language, and by removing them, we can focus on the more unique and more significant phrases mentioned in the tweets."
   ]
  },
  {
   "cell_type": "code",
   "execution_count": 64,
   "metadata": {},
   "outputs": [
    {
     "data": {
      "text/plain": [
       "0         hey yankees yankeespr mlb wouldnt made sense p...\n",
       "1         wdunlap realdonaldtrump trump never claimed ho...\n",
       "2         change work general recruiting specifically vi...\n",
       "3         order logo graphicdesigner logodesign logodesi...\n",
       "4         rajasthan government today started plasma bank...\n",
       "                                ...                        \n",
       "101193    wallkill school nurse adds covid monitoring da...\n",
       "101194    wallkill school nurse adds covid monitoring da...\n",
       "101195    thanks iamohmai nominating wearamask challenge...\n",
       "101196                                    year insanity lol\n",
       "101197    stop see stopsabcnewsdailysunsaencaaliwalnorth...\n",
       "Name: text, Length: 101198, dtype: object"
      ]
     },
     "execution_count": 64,
     "metadata": {},
     "output_type": "execute_result"
    }
   ],
   "source": [
    "#remove stopwords\n",
    "\n",
    "stop_words = set(stopwords.words('english'))\n",
    "remove_words = lambda x: ' '.join([word for word in x.split() if word not in stop_words])\n",
    "\n",
    "tweets['text'] = r = tweets['text'].apply(remove_words)\n",
    "tweets['text']"
   ]
  },
  {
   "cell_type": "markdown",
   "metadata": {},
   "source": [
    "Now that we preprocessed the text that will be used in our subsequent sentiment analysis, we will check on the state of our `tweets['text']` data."
   ]
  },
  {
   "cell_type": "code",
   "execution_count": 65,
   "metadata": {},
   "outputs": [
    {
     "data": {
      "text/plain": [
       "0         hey yankees yankeespr mlb wouldnt made sense p...\n",
       "1         wdunlap realdonaldtrump trump never claimed ho...\n",
       "2         change work general recruiting specifically vi...\n",
       "3         order logo graphicdesigner logodesign logodesi...\n",
       "4         rajasthan government today started plasma bank...\n",
       "                                ...                        \n",
       "101193    wallkill school nurse adds covid monitoring da...\n",
       "101194    wallkill school nurse adds covid monitoring da...\n",
       "101195    thanks iamohmai nominating wearamask challenge...\n",
       "101196                                    year insanity lol\n",
       "101197    stop see stopsabcnewsdailysunsaencaaliwalnorth...\n",
       "Name: text, Length: 101198, dtype: object"
      ]
     },
     "execution_count": 65,
     "metadata": {},
     "output_type": "execute_result"
    }
   ],
   "source": [
    "tweets['text']"
   ]
  },
  {
   "cell_type": "markdown",
   "metadata": {},
   "source": [
    "Now, we will conduct a sentiment analysis of the text in order to detect the polarity within the text. In this analysis, we'll be using VADER's `SentimentIntensityAnalyzer()`, which, in addition to detecting the polarity of the text, can also detect the intensity of the emotion. Because our `tweets` dataset is unlabeled, this is an optimal model as it can be applied to unlabeled text data. \n",
    "\n",
    "\"Towards Data Science\"'s article on VADER's `SentimentIntensityAnalyzer()` goes further into depth on the mechanisms of VADER's text analysis and was a source used to complete the analysis of our `tweets` dataset. The linked article provides great detail about the steps and processes used: https://towardsdatascience.com/sentimental-analysis-using-vader-a3415fef7664. "
   ]
  },
  {
   "cell_type": "code",
   "execution_count": 66,
   "metadata": {},
   "outputs": [
    {
     "data": {
      "text/plain": [
       "0         {'neg': 0.11, 'neu': 0.709, 'pos': 0.181, 'com...\n",
       "1         {'neg': 0.0, 'neu': 0.815, 'pos': 0.185, 'comp...\n",
       "2         {'neg': 0.0, 'neu': 1.0, 'pos': 0.0, 'compound...\n",
       "3         {'neg': 0.0, 'neu': 1.0, 'pos': 0.0, 'compound...\n",
       "4         {'neg': 0.0, 'neu': 1.0, 'pos': 0.0, 'compound...\n",
       "                                ...                        \n",
       "101193    {'neg': 0.0, 'neu': 1.0, 'pos': 0.0, 'compound...\n",
       "101194    {'neg': 0.0, 'neu': 1.0, 'pos': 0.0, 'compound...\n",
       "101195    {'neg': 0.0, 'neu': 0.707, 'pos': 0.293, 'comp...\n",
       "101196    {'neg': 0.493, 'neu': 0.133, 'pos': 0.373, 'co...\n",
       "101197    {'neg': 0.524, 'neu': 0.476, 'pos': 0.0, 'comp...\n",
       "Name: text, Length: 101198, dtype: object"
      ]
     },
     "execution_count": 66,
     "metadata": {},
     "output_type": "execute_result"
    }
   ],
   "source": [
    "sid = SentimentIntensityAnalyzer()\n",
    "\n",
    "# function that analyzes the inputs and returns a dictionary of scores\n",
    "scores = lambda x: sid.polarity_scores(x)\n",
    "sentiment_scores = tweets['text'].apply(scores)\n",
    "sentiment_scores"
   ]
  },
  {
   "cell_type": "markdown",
   "metadata": {},
   "source": [
    "From above, we can see that all the invidual tweets have been scored using VADER and placed into four categories: negative, neutral, positive, and compound, which is computed by normalizing the aforementioned categories. Now, we want to clean up the data so that it can be merged back into our `tweets` dataset.\n",
    "\n",
    "We want to first put the list of scores in a new `sentiment` dataset."
   ]
  },
  {
   "cell_type": "code",
   "execution_count": 67,
   "metadata": {},
   "outputs": [
    {
     "data": {
      "text/html": [
       "<div>\n",
       "<style scoped>\n",
       "    .dataframe tbody tr th:only-of-type {\n",
       "        vertical-align: middle;\n",
       "    }\n",
       "\n",
       "    .dataframe tbody tr th {\n",
       "        vertical-align: top;\n",
       "    }\n",
       "\n",
       "    .dataframe thead th {\n",
       "        text-align: right;\n",
       "    }\n",
       "</style>\n",
       "<table border=\"1\" class=\"dataframe\">\n",
       "  <thead>\n",
       "    <tr style=\"text-align: right;\">\n",
       "      <th></th>\n",
       "      <th>neg</th>\n",
       "      <th>neu</th>\n",
       "      <th>pos</th>\n",
       "      <th>compound</th>\n",
       "    </tr>\n",
       "  </thead>\n",
       "  <tbody>\n",
       "    <tr>\n",
       "      <td>0</td>\n",
       "      <td>0.11</td>\n",
       "      <td>0.709</td>\n",
       "      <td>0.181</td>\n",
       "      <td>0.2263</td>\n",
       "    </tr>\n",
       "    <tr>\n",
       "      <td>1</td>\n",
       "      <td>0.00</td>\n",
       "      <td>0.815</td>\n",
       "      <td>0.185</td>\n",
       "      <td>0.2057</td>\n",
       "    </tr>\n",
       "    <tr>\n",
       "      <td>2</td>\n",
       "      <td>0.00</td>\n",
       "      <td>1.000</td>\n",
       "      <td>0.000</td>\n",
       "      <td>0.0000</td>\n",
       "    </tr>\n",
       "    <tr>\n",
       "      <td>3</td>\n",
       "      <td>0.00</td>\n",
       "      <td>1.000</td>\n",
       "      <td>0.000</td>\n",
       "      <td>0.0000</td>\n",
       "    </tr>\n",
       "    <tr>\n",
       "      <td>4</td>\n",
       "      <td>0.00</td>\n",
       "      <td>1.000</td>\n",
       "      <td>0.000</td>\n",
       "      <td>0.0000</td>\n",
       "    </tr>\n",
       "  </tbody>\n",
       "</table>\n",
       "</div>"
      ],
      "text/plain": [
       "    neg    neu    pos  compound\n",
       "0  0.11  0.709  0.181    0.2263\n",
       "1  0.00  0.815  0.185    0.2057\n",
       "2  0.00  1.000  0.000    0.0000\n",
       "3  0.00  1.000  0.000    0.0000\n",
       "4  0.00  1.000  0.000    0.0000"
      ]
     },
     "execution_count": 67,
     "metadata": {},
     "output_type": "execute_result"
    }
   ],
   "source": [
    "# new dataframe containing list of sentiment scores\n",
    "sentiment = pd.DataFrame(data=list(sentiment_scores))\n",
    "sentiment.head()"
   ]
  },
  {
   "cell_type": "markdown",
   "metadata": {},
   "source": [
    "Next, we want to use the `compound` score, which is found by normalizing the other three categories, to label the polarity of the tweet. Compound values that are greater than zero are positive and compound values that are less than zero are negative. This means that compound values that are equal to zero will be considered neutral tweets."
   ]
  },
  {
   "cell_type": "code",
   "execution_count": 68,
   "metadata": {},
   "outputs": [
    {
     "data": {
      "text/html": [
       "<div>\n",
       "<style scoped>\n",
       "    .dataframe tbody tr th:only-of-type {\n",
       "        vertical-align: middle;\n",
       "    }\n",
       "\n",
       "    .dataframe tbody tr th {\n",
       "        vertical-align: top;\n",
       "    }\n",
       "\n",
       "    .dataframe thead th {\n",
       "        text-align: right;\n",
       "    }\n",
       "</style>\n",
       "<table border=\"1\" class=\"dataframe\">\n",
       "  <thead>\n",
       "    <tr style=\"text-align: right;\">\n",
       "      <th></th>\n",
       "      <th>neg</th>\n",
       "      <th>neu</th>\n",
       "      <th>pos</th>\n",
       "      <th>compound</th>\n",
       "      <th>label</th>\n",
       "    </tr>\n",
       "  </thead>\n",
       "  <tbody>\n",
       "    <tr>\n",
       "      <td>0</td>\n",
       "      <td>0.11</td>\n",
       "      <td>0.709</td>\n",
       "      <td>0.181</td>\n",
       "      <td>0.2263</td>\n",
       "      <td>positive</td>\n",
       "    </tr>\n",
       "    <tr>\n",
       "      <td>1</td>\n",
       "      <td>0.00</td>\n",
       "      <td>0.815</td>\n",
       "      <td>0.185</td>\n",
       "      <td>0.2057</td>\n",
       "      <td>positive</td>\n",
       "    </tr>\n",
       "    <tr>\n",
       "      <td>2</td>\n",
       "      <td>0.00</td>\n",
       "      <td>1.000</td>\n",
       "      <td>0.000</td>\n",
       "      <td>0.0000</td>\n",
       "      <td>neutral</td>\n",
       "    </tr>\n",
       "    <tr>\n",
       "      <td>3</td>\n",
       "      <td>0.00</td>\n",
       "      <td>1.000</td>\n",
       "      <td>0.000</td>\n",
       "      <td>0.0000</td>\n",
       "      <td>neutral</td>\n",
       "    </tr>\n",
       "    <tr>\n",
       "      <td>4</td>\n",
       "      <td>0.00</td>\n",
       "      <td>1.000</td>\n",
       "      <td>0.000</td>\n",
       "      <td>0.0000</td>\n",
       "      <td>neutral</td>\n",
       "    </tr>\n",
       "  </tbody>\n",
       "</table>\n",
       "</div>"
      ],
      "text/plain": [
       "    neg    neu    pos  compound     label\n",
       "0  0.11  0.709  0.181    0.2263  positive\n",
       "1  0.00  0.815  0.185    0.2057  positive\n",
       "2  0.00  1.000  0.000    0.0000   neutral\n",
       "3  0.00  1.000  0.000    0.0000   neutral\n",
       "4  0.00  1.000  0.000    0.0000   neutral"
      ]
     },
     "execution_count": 68,
     "metadata": {},
     "output_type": "execute_result"
    }
   ],
   "source": [
    "# function determining the labels based on compound score\n",
    "label = lambda x: 'neutral' if x==0 else ('positive' if x>0 else 'negative')\n",
    "\n",
    "# place in a new column: label\n",
    "sentiment['label'] = sentiment['compound'].apply(label)\n",
    "sentiment.head()"
   ]
  },
  {
   "cell_type": "markdown",
   "metadata": {},
   "source": [
    "Finally, we have determined the polarity of the tweets and can merge the labels with their respective tweets. "
   ]
  },
  {
   "cell_type": "code",
   "execution_count": 69,
   "metadata": {},
   "outputs": [
    {
     "data": {
      "text/html": [
       "<div>\n",
       "<style scoped>\n",
       "    .dataframe tbody tr th:only-of-type {\n",
       "        vertical-align: middle;\n",
       "    }\n",
       "\n",
       "    .dataframe tbody tr th {\n",
       "        vertical-align: top;\n",
       "    }\n",
       "\n",
       "    .dataframe thead th {\n",
       "        text-align: right;\n",
       "    }\n",
       "</style>\n",
       "<table border=\"1\" class=\"dataframe\">\n",
       "  <thead>\n",
       "    <tr style=\"text-align: right;\">\n",
       "      <th></th>\n",
       "      <th>user_name</th>\n",
       "      <th>location</th>\n",
       "      <th>date</th>\n",
       "      <th>text</th>\n",
       "      <th>compound</th>\n",
       "      <th>label</th>\n",
       "    </tr>\n",
       "  </thead>\n",
       "  <tbody>\n",
       "    <tr>\n",
       "      <td>0</td>\n",
       "      <td>Tom Basile 🇺🇸</td>\n",
       "      <td>united states</td>\n",
       "      <td>2020-07-25 12:27:17</td>\n",
       "      <td>hey yankees yankeespr mlb wouldnt made sense p...</td>\n",
       "      <td>0.2263</td>\n",
       "      <td>positive</td>\n",
       "    </tr>\n",
       "    <tr>\n",
       "      <td>1</td>\n",
       "      <td>Time4fisticuffs</td>\n",
       "      <td>china</td>\n",
       "      <td>2020-07-25 12:27:14</td>\n",
       "      <td>wdunlap realdonaldtrump trump never claimed ho...</td>\n",
       "      <td>0.2057</td>\n",
       "      <td>positive</td>\n",
       "    </tr>\n",
       "    <tr>\n",
       "      <td>2</td>\n",
       "      <td>hr bartender</td>\n",
       "      <td>united states</td>\n",
       "      <td>2020-07-25 12:27:03</td>\n",
       "      <td>change work general recruiting specifically vi...</td>\n",
       "      <td>0.0000</td>\n",
       "      <td>neutral</td>\n",
       "    </tr>\n",
       "    <tr>\n",
       "      <td>3</td>\n",
       "      <td>Creativegms</td>\n",
       "      <td>china</td>\n",
       "      <td>2020-07-25 12:26:50</td>\n",
       "      <td>order logo graphicdesigner logodesign logodesi...</td>\n",
       "      <td>0.0000</td>\n",
       "      <td>neutral</td>\n",
       "    </tr>\n",
       "    <tr>\n",
       "      <td>4</td>\n",
       "      <td>DailyaddaaNews</td>\n",
       "      <td>india</td>\n",
       "      <td>2020-07-25 12:26:46</td>\n",
       "      <td>rajasthan government today started plasma bank...</td>\n",
       "      <td>0.0000</td>\n",
       "      <td>neutral</td>\n",
       "    </tr>\n",
       "  </tbody>\n",
       "</table>\n",
       "</div>"
      ],
      "text/plain": [
       "         user_name       location                 date  \\\n",
       "0    Tom Basile 🇺🇸  united states  2020-07-25 12:27:17   \n",
       "1  Time4fisticuffs          china  2020-07-25 12:27:14   \n",
       "2     hr bartender  united states  2020-07-25 12:27:03   \n",
       "3      Creativegms          china  2020-07-25 12:26:50   \n",
       "4   DailyaddaaNews          india  2020-07-25 12:26:46   \n",
       "\n",
       "                                                text  compound     label  \n",
       "0  hey yankees yankeespr mlb wouldnt made sense p...    0.2263  positive  \n",
       "1  wdunlap realdonaldtrump trump never claimed ho...    0.2057  positive  \n",
       "2  change work general recruiting specifically vi...    0.0000   neutral  \n",
       "3  order logo graphicdesigner logodesign logodesi...    0.0000   neutral  \n",
       "4  rajasthan government today started plasma bank...    0.0000   neutral  "
      ]
     },
     "execution_count": 69,
     "metadata": {},
     "output_type": "execute_result"
    }
   ],
   "source": [
    "# add label and compound column to the tweets dataframe\n",
    "tweets = tweets.join(sentiment[['compound', 'label']])\n",
    "tweets.head()"
   ]
  },
  {
   "cell_type": "markdown",
   "metadata": {},
   "source": [
    "Now that we have our text analysis of the `tweets` dataset, we can reiterate the Happiness Score vs. Tweets comparison with a more in-depth understanding of the polarity of the tweets.\n",
    "\n",
    "First, we want to analyze the resultant sentiment of the corpus of tweets."
   ]
  },
  {
   "cell_type": "code",
   "execution_count": 70,
   "metadata": {},
   "outputs": [
    {
     "data": {
      "text/plain": [
       "positive    40107\n",
       "neutral     36060\n",
       "negative    25031\n",
       "Name: label, dtype: int64"
      ]
     },
     "execution_count": 70,
     "metadata": {},
     "output_type": "execute_result"
    }
   ],
   "source": [
    "tweets['label'].value_counts()"
   ]
  },
  {
   "cell_type": "markdown",
   "metadata": {},
   "source": [
    "Shockingly, we can see using `value_counts()` that most of the COVID-19 tweets documented appear to be positive, with the next largest category being neutral tweets. We want to further examine the relationship between the polarity of tweets and the happiness scores of the countries that they come from.\n",
    "\n",
    "In order to better compare `tweet sentiment` and `happiness score`, we will use the `compound` score and average that for each country in order to have a quantifiable evaluation of the overall sentiment of tweets associated with each country."
   ]
  },
  {
   "cell_type": "code",
   "execution_count": 71,
   "metadata": {},
   "outputs": [
    {
     "data": {
      "text/plain": [
       "location\n",
       "afghanistan    0.208333\n",
       "albania       -0.336400\n",
       "algeria        0.045320\n",
       "angola        -0.000071\n",
       "argentina      0.048514\n",
       "Name: compound, dtype: float64"
      ]
     },
     "execution_count": 71,
     "metadata": {},
     "output_type": "execute_result"
    }
   ],
   "source": [
    "# find the average compound scores of tweets for each country\n",
    "countries_sentiment = tweets.groupby('location')\n",
    "countries_sentiment = countries_sentiment['compound'].mean()\n",
    "countries_sentiment.head()"
   ]
  },
  {
   "cell_type": "code",
   "execution_count": 72,
   "metadata": {},
   "outputs": [
    {
     "data": {
      "text/html": [
       "<div>\n",
       "<style scoped>\n",
       "    .dataframe tbody tr th:only-of-type {\n",
       "        vertical-align: middle;\n",
       "    }\n",
       "\n",
       "    .dataframe tbody tr th {\n",
       "        vertical-align: top;\n",
       "    }\n",
       "\n",
       "    .dataframe thead th {\n",
       "        text-align: right;\n",
       "    }\n",
       "</style>\n",
       "<table border=\"1\" class=\"dataframe\">\n",
       "  <thead>\n",
       "    <tr style=\"text-align: right;\">\n",
       "      <th></th>\n",
       "      <th>Country</th>\n",
       "      <th>aggregate_tweets</th>\n",
       "      <th>daily_vaccinations_per_million</th>\n",
       "      <th>people_fully_vaccinated</th>\n",
       "      <th>people_vaccinated_per_hundred</th>\n",
       "      <th>total_vaccinations</th>\n",
       "      <th>total_vaccinations_per_hundred</th>\n",
       "      <th>Date</th>\n",
       "      <th>Type</th>\n",
       "      <th>sentiment</th>\n",
       "    </tr>\n",
       "  </thead>\n",
       "  <tbody>\n",
       "    <tr>\n",
       "      <td>0</td>\n",
       "      <td>afghanistan</td>\n",
       "      <td>9</td>\n",
       "      <td>1277.0</td>\n",
       "      <td>0.0</td>\n",
       "      <td>0.16</td>\n",
       "      <td>62200.0</td>\n",
       "      <td>0.16</td>\n",
       "      <td>2020-03-24</td>\n",
       "      <td>Full</td>\n",
       "      <td>0.208333</td>\n",
       "    </tr>\n",
       "    <tr>\n",
       "      <td>1</td>\n",
       "      <td>albania</td>\n",
       "      <td>4</td>\n",
       "      <td>41108.0</td>\n",
       "      <td>2316.0</td>\n",
       "      <td>0.50</td>\n",
       "      <td>1143532.0</td>\n",
       "      <td>39.75</td>\n",
       "      <td>2020-03-08</td>\n",
       "      <td>Full</td>\n",
       "      <td>-0.336400</td>\n",
       "    </tr>\n",
       "    <tr>\n",
       "      <td>2</td>\n",
       "      <td>algeria</td>\n",
       "      <td>10</td>\n",
       "      <td>1568.0</td>\n",
       "      <td>0.0</td>\n",
       "      <td>0.00</td>\n",
       "      <td>75030.0</td>\n",
       "      <td>0.17</td>\n",
       "      <td>2020-03-24</td>\n",
       "      <td>Full</td>\n",
       "      <td>0.045320</td>\n",
       "    </tr>\n",
       "    <tr>\n",
       "      <td>3</td>\n",
       "      <td>argentina</td>\n",
       "      <td>964</td>\n",
       "      <td>86900.0</td>\n",
       "      <td>23035286.0</td>\n",
       "      <td>188.14</td>\n",
       "      <td>108616678.0</td>\n",
       "      <td>240.34</td>\n",
       "      <td>2020-03-20</td>\n",
       "      <td>Full</td>\n",
       "      <td>-0.000071</td>\n",
       "    </tr>\n",
       "    <tr>\n",
       "      <td>4</td>\n",
       "      <td>australia</td>\n",
       "      <td>1898</td>\n",
       "      <td>25411.0</td>\n",
       "      <td>0.0</td>\n",
       "      <td>4.86</td>\n",
       "      <td>9785319.0</td>\n",
       "      <td>38.39</td>\n",
       "      <td>2020-03-25</td>\n",
       "      <td>Partial</td>\n",
       "      <td>0.048514</td>\n",
       "    </tr>\n",
       "  </tbody>\n",
       "</table>\n",
       "</div>"
      ],
      "text/plain": [
       "       Country aggregate_tweets  daily_vaccinations_per_million  \\\n",
       "0  afghanistan                9                          1277.0   \n",
       "1      albania                4                         41108.0   \n",
       "2      algeria               10                          1568.0   \n",
       "3    argentina              964                         86900.0   \n",
       "4    australia             1898                         25411.0   \n",
       "\n",
       "   people_fully_vaccinated  people_vaccinated_per_hundred  total_vaccinations  \\\n",
       "0                      0.0                           0.16             62200.0   \n",
       "1                   2316.0                           0.50           1143532.0   \n",
       "2                      0.0                           0.00             75030.0   \n",
       "3               23035286.0                         188.14         108616678.0   \n",
       "4                      0.0                           4.86           9785319.0   \n",
       "\n",
       "   total_vaccinations_per_hundred        Date     Type  sentiment  \n",
       "0                            0.16  2020-03-24     Full   0.208333  \n",
       "1                           39.75  2020-03-08     Full  -0.336400  \n",
       "2                            0.17  2020-03-24     Full   0.045320  \n",
       "3                          240.34  2020-03-20     Full  -0.000071  \n",
       "4                           38.39  2020-03-25  Partial   0.048514  "
      ]
     },
     "execution_count": 72,
     "metadata": {},
     "output_type": "execute_result"
    }
   ],
   "source": [
    "# put average scores in a new data frame\n",
    "countries_sentiment_df = pd.DataFrame(data=list(countries_sentiment))\n",
    "countries_sentiment_df.columns = ['sentiment']\n",
    "covid = covid.sort_values(by=['Country'], ascending=True)\n",
    "\n",
    "# merge sentiment scores with existing covid dataframe\n",
    "covid = covid.join(countries_sentiment_df['sentiment'])\n",
    "covid.head()"
   ]
  },
  {
   "cell_type": "markdown",
   "metadata": {},
   "source": [
    "Now that we have our complete `covid` dataframe with updated \"average sentiment scores\" for each country, we can once again examine the relationship between `happiness scores` and `tweets`.\n",
    "\n",
    "We will begin by first examining the top 10 countries with positive tweets. This is to get a general idea of which countries are outputting the \"happiest\" COVID-related tweets."
   ]
  },
  {
   "cell_type": "code",
   "execution_count": 73,
   "metadata": {},
   "outputs": [
    {
     "data": {
      "text/plain": [
       "Text(0.5, 0, 'Count of Positive Tweets')"
      ]
     },
     "execution_count": 73,
     "metadata": {},
     "output_type": "execute_result"
    },
    {
     "data": {
      "image/png": "[encoded data removed]",
      "text/plain": [
       "<Figure size 432x288 with 1 Axes>"
      ]
     },
     "metadata": {
      "needs_background": "light"
     },
     "output_type": "display_data"
    }
   ],
   "source": [
    "covid = covid.sort_values(['sentiment'], ascending=False)\n",
    "ax = sns.barplot(y=covid['Country'].head(10), x=covid['sentiment'].head(10))\n",
    "\n",
    "ax.set_title('Top 10 Countries with Positive Tweets')\n",
    "ax.set_xlabel('Count of Positive Tweets')"
   ]
  },
  {
   "cell_type": "markdown",
   "metadata": {},
   "source": [
    "From the graph above, we can see that the top countries with positive tweets are not shockingly the most populous countries in the world. It would be interesting to see what the top countries are sorted by happiness scores. "
   ]
  },
  {
   "cell_type": "code",
   "execution_count": 76,
   "metadata": {},
   "outputs": [
    {
     "data": {
      "text/plain": [
       "Text(0.5, 0, 'Happiness Score')"
      ]
     },
     "execution_count": 76,
     "metadata": {},
     "output_type": "execute_result"
    },
    {
     "data": {
      "image/png": "[encoded data removed]",
      "text/plain": [
       "<Figure size 432x288 with 1 Axes>"
      ]
     },
     "metadata": {
      "needs_background": "light"
     },
     "output_type": "display_data"
    }
   ],
   "source": [
    "happiness = happiness.sort_values(['Happiness Score'], ascending=False)\n",
    "ax = sns.barplot(y=happiness2020['Country'].head(10), x=happiness2020['Happiness Score'].head(10))\n",
    "\n",
    "ax.set_title('Top 10 Countries by Happiness Score')\n",
    "ax.set_xlabel('Happiness Score')"
   ]
  },
  {
   "cell_type": "markdown",
   "metadata": {},
   "source": [
    "As we can see above, the top countries by happiness score does diverge from the top countries by tweet sentiment. Regardless, we can further explore the relationship of the two values using an `lmplot`."
   ]
  },
  {
   "cell_type": "code",
   "execution_count": 74,
   "metadata": {},
   "outputs": [
    {
     "data": {
      "text/plain": [
       "Text(0.5, 1, 'Relationship between sentiment of COVID tweets and Happiness Scores in 2020')"
      ]
     },
     "execution_count": 74,
     "metadata": {},
     "output_type": "execute_result"
    },
    {
     "data": {
      "image/png": "[encoded data removed]",
      "text/plain": [
       "<Figure size 576x360 with 1 Axes>"
      ]
     },
     "metadata": {
      "needs_background": "light"
     },
     "output_type": "display_data"
    }
   ],
   "source": [
    "# merge the new and updated covid dataset with 2020 happiness data\n",
    "sentiment2020 = pd.merge(year2020, covid, on='Country')\n",
    "\n",
    "sns.lmplot(\n",
    "    x = 'sentiment',\n",
    "    y = 'Happiness Score',\n",
    "    data = sentiment2020,\n",
    "    aspect = 1.6,\n",
    "    scatter_kws={\"color\": \"firebrick\"},\n",
    "    line_kws={\"color\": \"seagreen\"}\n",
    ")\n",
    "ax = plt.gca()\n",
    "ax.set_title(\"Relationship between sentiment of COVID tweets and Happiness Scores in 2020\")"
   ]
  },
  {
   "cell_type": "markdown",
   "metadata": {},
   "source": [
    "Based on this visualization, we can expect to see no correlation between the average sentiment of tweets and the happiness score of their respective countries. Regardless, we will proceed with an OLS Regression to confirm our expectations. "
   ]
  },
  {
   "cell_type": "code",
   "execution_count": 75,
   "metadata": {},
   "outputs": [
    {
     "name": "stdout",
     "output_type": "stream",
     "text": [
      "                             OLS Regression Results                             \n",
      "================================================================================\n",
      "Dep. Variable:     Q(\"Happiness Score\")   R-squared:                       0.003\n",
      "Model:                              OLS   Adj. R-squared:                 -0.009\n",
      "Method:                   Least Squares   F-statistic:                    0.2397\n",
      "Date:                  Fri, 03 Jun 2022   Prob (F-statistic):              0.626\n",
      "Time:                          03:05:11   Log-Likelihood:                -130.22\n",
      "No. Observations:                    89   AIC:                             264.4\n",
      "Df Residuals:                        87   BIC:                             269.4\n",
      "Df Model:                             1                                         \n",
      "Covariance Type:              nonrobust                                         \n",
      "==============================================================================\n",
      "                 coef    std err          t      P>|t|      [0.025      0.975]\n",
      "------------------------------------------------------------------------------\n",
      "Intercept      5.7831      0.116     50.064      0.000       5.553       6.013\n",
      "sentiment     -0.2432      0.497     -0.490      0.626      -1.230       0.744\n",
      "==============================================================================\n",
      "Omnibus:                        0.691   Durbin-Watson:                   0.020\n",
      "Prob(Omnibus):                  0.708   Jarque-Bera (JB):                0.677\n",
      "Skew:                          -0.203   Prob(JB):                        0.713\n",
      "Kurtosis:                       2.866   Cond. No.                         4.45\n",
      "==============================================================================\n",
      "\n",
      "Warnings:\n",
      "[1] Standard Errors assume that the covariance matrix of the errors is correctly specified.\n"
     ]
    }
   ],
   "source": [
    "sentiment_outcome, sentiment_predictors = patsy.dmatrices('Q(\"Happiness Score\") ~ sentiment', sentiment2020)\n",
    "sentiment_model = sm.OLS(sentiment_outcome, sentiment_predictors)\n",
    "sentiment_results = sentiment_model.fit()\n",
    "print(sentiment_results.summary())"
   ]
  },
  {
   "cell_type": "markdown",
   "metadata": {},
   "source": [
    "Based on the results from this OLS regression, the relationship between `tweet sentiment` and `Happiness Score` is slightly negative. The p-score is 0.626, which is significantly above the threshold of 0.05. This means that we cannot reject the null hypothesis and we can conclude that there is no relationship between `tweet sentiment` and `Happiness Score`."
   ]
  },
  {
   "cell_type": "markdown",
   "metadata": {},
   "source": [
    "Our analysis underwent a thorough evaluation of the various possible values that may influence a country's Happiness Score. We inevitably were unable to determine a significant relationship between `Happiness Score` and `Tweets` or between `Happiness Score` and `Sentiment of Tweets`. However, our analyses of `Lockdown Type`, `Freedom`, and `Vaccine` datasets show that there is still potential for further analysis surrounding their association with a country's `Happiness Score`."
   ]
  },
  {
   "cell_type": "markdown",
   "metadata": {},
   "source": [
    "# Ethics & Privacy"
   ]
  },
  {
   "cell_type": "markdown",
   "metadata": {},
   "source": [
    "The question we have decided to research involves happiness-- which is a very subjective variable that varies between every individual and their certain capacities. Happiness can also be relatively private and personal which can have internal and external factors that may affect this score. We acknowledge that using the World Happiness Report is confined to whomever participated in the convention census thus not having a holistic view on every individual in their respective countries.\n",
    "\n",
    "However, with these limitations-- we have cleaned the irrelevant data from the World Happiness dataset and continued to use this dataset since it has one of the most comprehensive and analysis of World Happiness available on Kaggle. We then go on to use these happiness scaling and cross reference them with different effects of COVID-19.\n",
    "\n",
    "**Permissions**  \n",
    "We have permission to use these datasets as the data was collected from sources that were made publicly available for people to use. The following datasets can be found on Kaggle which is open for the public: World Happiness Report, COVID19 Tweets, World Cities Dataset, COVID-19 Lockdown dates by country, and COVID19 Country Vaccination Progress. \n",
    "\n",
    "**Potential Biases**  \n",
    "We are using the data COVID19 Tweets; because this data is found on a social media platform-- there is lots of data that may include misinformation, various polarity in perspectives, difference in political preferences, and so on. However, we will clean the data and focus solely on variables such as: location, date, and time of the tweet. \n",
    "Additionally, for other datasets-- although there is misinformation on many COVID-19 aspects, we will be measuring individuals’ opinions from a binary lens of “positive” or “negative” and how that affects the happiness rate within the respective location.\n",
    "\n",
    "Furthermore, other datasets such as: World Cities, COVID-19 Lockdown dates, and COVID-19 Country were collected objectively through official sources and only have quantitative data.\n",
    "\n",
    "**Conclusion**  \n",
    "Overall, the data we have collected for our project is available for public use and we have minimized bias through careful analysis and cleaning of the data. \n"
   ]
  },
  {
   "cell_type": "markdown",
   "metadata": {},
   "source": [
    "# Conclusion & Discussion"
   ]
  },
  {
   "cell_type": "markdown",
   "metadata": {},
   "source": [
    "COVID-19 has had a large affect on people's mental health as shelter in place orders locked people in their homes for weeks without any form of in-person social interaction. We wanted to know if happiness levels were truly affected by COVID-related measures, so our project analyzed the relationship between happiness scores and COVID-related variables such as vaccinations, lockdowns, and COVID-related tweets. The first two COVID-related variables are fairly straightforward, but the idea to use COVID-related tweets was birthed when we spotted an interesting dataset on Kaggle that compiled tweets that had the hashtag, #covid19. This brought into question whether or not tweets were demonstrative of a country's overall happiness.\n",
    "\n",
    "As we predicted in our hypothesis, countries with partial lockdowns had higher freedom scores than countries with full lockdowns. However, there is a comparatively large difference in sample size between the two variables. In addition, once we identified the countries with the lowest freedom scores, we did question if there were other countries whose data were just not included in the datset. Or, our data cleaning process resulted in the loss of valuable data. Similarly, we saw that the happiness scores of partial-lockdown countries were higher, on average, than full-lockdown countries. Again, there is a significant difference in sample size for both cases. \n",
    "\n",
    "When comparing `freedom` and `happiness scores`, we got a p-value of 0, which indicates a significant relationship between the two values. In addition, the R-squared value suggests that 30% of the variance in Happiness Scores is explained by the Freedom Score. Similarly, we got a p-score of 0 when comparing `total vaccinations` with `happiness scores`, which allowed us to accept part of our hypothesis with caution. The uncertainty is due to the fact that the R-squared value indicates that 17.1% of the variance in Happiness Scores is explained by the Total Vaccinations.\n",
    "\n",
    "Our results begin to diverge from our hypothesis once we begin our multivariate analysis with `COVID-19 Tweets` and `happiness scores`. When we performed an OLS regression with the `value_counts()` of the tweets from each country, we received a resultant p-score of 0.167, which is higher than the threshold of 0.05. The large p-value indicates that there is not a significant relationship between `COVID-19 tweets` and `happiness scores`. However, one limitation in this is that we do not know what the polarity of the tweets are. Therefore, the number of tweets do not fully encapsulate the happiness of the users and further analysis is necessary to determine the polarity of the tweets.\n",
    "\n",
    "The results from the tweets that underwent sentiment analysis also show that there is not a signficant relationship between the tweets and `happiness scores`. We received a p-score of 0.626 after running an OLS regression with the tweets that underwent sentiment analysis. In addition, we had a very low R-squared value that indicated 17.1% of the variance in Happiness Scores is explained by the tweets' sentiment. \n",
    "\n",
    "To summarize, we accept our hypotheses surrounding the affects of `lockdown levels`, `vaccinations`, and `freedom scores` on `happiness scores`. However, we have to reject our expected correlation between `COVID-19 tweets` and `happiness scores`. \n",
    "\n",
    "There are limitations to this project that must be considered when evaluating the results. When cleaning the `tweets` dataset, a lot of data was lost in the process due to the fact that users are able to input their own locations. Therefore, if the location did not match any of the country names, abbreviations, city codes, etc. from the `cities` dataset, the tweet would be removed from the dataframe. Similarly, our `lockdown` dataset was fairly limited and it may not be representative of all the countries around the world. This limitation was made clear when we did our analyses involving the `lockdown` data. \n",
    "\n",
    "It is clear that even though we involved a lot of COVID-related data in our analysis, there are even more possible analyses that could be done involving the values in our `covid` dataset. If we were to expand on this project in the future, we would love to consider global GDP levels or unemployment percentages as a comparison point for COVID-related data."
   ]
  },
  {
   "cell_type": "markdown",
   "metadata": {},
   "source": [
    "# Final Project Video"
   ]
  },
    {
   "cell_type": "markdown",
   "metadata": {},
   "source": [
    "https://youtu.be/ChPjwA2Kotc"
   ]
  },
  {
   "cell_type": "markdown",
   "metadata": {},
   "source": [
    "# Team Contributions"
   ]
  },
  {
   "cell_type": "markdown",
   "metadata": {},
   "source": [
    "**Jonathan Lum**\n",
    "- Data Cleaning (`vaccinations`)\n",
    "- Data Analysis \n",
    "- Presentation Slides\n",
    "- Project Timeline\n",
    "\n",
    "**Chloe Lee**\n",
    "- Background and Prior Work\n",
    "- Hypothesis\n",
    "- Data Cleaning (`lockdown`)\n",
    "- Data Analysis \n",
    "\n",
    "**Vivian Cheung**\n",
    "- Overview\n",
    "- Hypothesis\n",
    "- Data Cleaning (`tweets`)\n",
    "- Data Analysis + Sentiment Analysis\n",
    "- Conclusion & Discussion\n",
    "\n",
    "**Jenna Nguyen**\n",
    "- Data Cleaning (`happiness`)\n",
    "- Data Analysis\n",
    "- Ethics & Privacy\n",
    "- Final Video Compilation"
   ]
  }
 ],
 "metadata": {
  "interpreter": {
   "hash": "7ed4279aacce8d98a96c905860a1dee233ea4c8a33008ebdf94a148b70659646"
  },
  "kernelspec": {
   "display_name": "Python 3.7.4 ('base')",
   "language": "python",
   "name": "python3"
  },
  "language_info": {
   "codemirror_mode": {
    "name": "ipython",
    "version": 3
   },
   "file_extension": ".py",
   "mimetype": "text/x-python",
   "name": "python",
   "nbconvert_exporter": "python",
   "pygments_lexer": "ipython3",
   "version": "3.7.4"
  }
 },
 "nbformat": 4,
 "nbformat_minor": 2
}
